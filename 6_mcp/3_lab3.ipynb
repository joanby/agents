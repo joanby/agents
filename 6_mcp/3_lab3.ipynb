{
 "cells": [
  {
   "cell_type": "markdown",
   "metadata": {},
   "source": [
    "### ¡Bienvenidos a la Semana 6 Día 3!\n",
    "\n",
    "Vamos a experimentar con muchos más servidores MCP"
   ]
  },
  {
   "cell_type": "code",
   "execution_count": 28,
   "metadata": {},
   "outputs": [
    {
     "data": {
      "text/plain": [
       "True"
      ]
     },
     "execution_count": 28,
     "metadata": {},
     "output_type": "execute_result"
    }
   ],
   "source": [
    "from dotenv import load_dotenv\n",
    "from agents import Agent, Runner, trace\n",
    "from agents.mcp import MCPServerStdio\n",
    "import os\n",
    "from IPython.display import Markdown, display\n",
    "from datetime import datetime\n",
    "load_dotenv(override=True)"
   ]
  },
  {
   "cell_type": "markdown",
   "metadata": {},
   "source": [
    "### El primer tipo de servidor MCP: se ejecuta localmente, todo local\n",
    "\n",
    "Aquí hay uno realmente interesante: una memoria basada en grafo de conocimiento.\n",
    "\n",
    "Es un almacén de memoria persistente de entidades, observaciones sobre ellas y relaciones entre ellas.\n",
    "\n",
    "https://github.com/modelcontextprotocol/servers/tree/main/src/memory\n"
   ]
  },
  {
   "cell_type": "code",
   "execution_count": 2,
   "metadata": {},
   "outputs": [
    {
     "data": {
      "text/plain": [
       "[Tool(name='create_entities', description='Create new entities with observations and optional embeddings', inputSchema={'type': 'object', 'properties': {'entities': {'type': 'array', 'items': {'type': 'object', 'properties': {'name': {'type': 'string'}, 'entityType': {'type': 'string'}, 'observations': {'type': 'array', 'items': {'type': 'string'}}, 'embedding': {'type': 'array', 'items': {'type': 'number'}, 'description': 'Optional vector embedding for similarity search'}}, 'required': ['name', 'entityType', 'observations']}}}, 'required': ['entities']}, annotations=None),\n",
       " Tool(name='search_nodes', description='Search for entities and their relations using text or vector similarity', inputSchema={'type': 'object', 'properties': {'query': {'oneOf': [{'type': 'string', 'description': 'Text search query'}, {'type': 'array', 'items': {'type': 'number'}, 'description': 'Vector for similarity search'}]}}, 'required': ['query']}, annotations=None),\n",
       " Tool(name='read_graph', description='Get recent entities and their relations', inputSchema={'type': 'object', 'properties': {}, 'required': []}, annotations=None),\n",
       " Tool(name='create_relations', description='Create relations between entities', inputSchema={'type': 'object', 'properties': {'relations': {'type': 'array', 'items': {'type': 'object', 'properties': {'source': {'type': 'string'}, 'target': {'type': 'string'}, 'type': {'type': 'string'}}, 'required': ['source', 'target', 'type']}}}, 'required': ['relations']}, annotations=None),\n",
       " Tool(name='delete_entity', description='Delete an entity and all its associated data (observations and relations)', inputSchema={'type': 'object', 'properties': {'name': {'type': 'string', 'description': 'Name of the entity to delete'}}, 'required': ['name']}, annotations=None),\n",
       " Tool(name='delete_relation', description='Delete a specific relation between entities', inputSchema={'type': 'object', 'properties': {'source': {'type': 'string', 'description': 'Source entity name'}, 'target': {'type': 'string', 'description': 'Target entity name'}, 'type': {'type': 'string', 'description': 'Type of relation'}}, 'required': ['source', 'target', 'type']}, annotations=None)]"
      ]
     },
     "execution_count": 2,
     "metadata": {},
     "output_type": "execute_result"
    }
   ],
   "source": [
    "params = {\"command\": \"npx\",\"args\": [\"-y\", \"mcp-memory-libsql\"],\"env\": {\"LIBSQL_URL\": \"file:./memory/juangabriel.db\"}}\n",
    "\n",
    "async with MCPServerStdio(params=params, client_session_timeout_seconds=30) as server:\n",
    "    mcp_tools = await server.list_tools()\n",
    "\n",
    "mcp_tools"
   ]
  },
  {
   "cell_type": "code",
   "execution_count": 22,
   "metadata": {},
   "outputs": [],
   "source": [
    "instructions = \"Utilizas tus herramientas de entidad como una memoria persistente para almacenar y recordar información sobre tus conversaciones en un fichero .db.\"\n",
    "request = \"Me llamo Juan Gabriel. Soy matemático, especializado en ingeniería de LLM. Estoy enseñando un curso sobre Agentes de IA, incluyendo el increíble protocolo MCP. \\\n",
    "MCP es un protocolo para conectar agentes con herramientas, recursos y plantillas de prompts, y facilita la integración de agentes de IA con capacidades.\"\n",
    "model = \"gpt-4.1-mini\""
   ]
  },
  {
   "cell_type": "code",
   "execution_count": 23,
   "metadata": {},
   "outputs": [
    {
     "data": {
      "text/markdown": [
       "Hola Juan Gabriel, es un placer conocerte. He registrado que eres matemático especializado en ingeniería de LLM y que estás enseñando un curso sobre Agentes de IA que incluye el protocolo MCP. Además, he guardado que MCP es un protocolo para conectar agentes con herramientas, recursos y plantillas de prompts, facilitando la integración de agentes de IA con capacidades. ¿En qué te puedo ayudar hoy respecto a tu curso o sobre MCP?"
      ],
      "text/plain": [
       "<IPython.core.display.Markdown object>"
      ]
     },
     "metadata": {},
     "output_type": "display_data"
    }
   ],
   "source": [
    "async with MCPServerStdio(params=params, client_session_timeout_seconds=30) as mcp_server:\n",
    "    agent = Agent(name=\"agent\", instructions=instructions, model=model, mcp_servers=[mcp_server])\n",
    "    with trace(\"conversation\"):\n",
    "        result = await Runner.run(agent, request)\n",
    "    display(Markdown(result.final_output))"
   ]
  },
  {
   "cell_type": "code",
   "execution_count": 27,
   "metadata": {},
   "outputs": [
    {
     "data": {
      "text/markdown": [
       "Sé que eres Juan Gabriel, un matemático especializado en ingeniería de modelos de lenguaje grande (LLM). También eres profesor de un curso sobre Agentes de IA, en el que se incluye la enseñanza del protocolo MCP. ¿Quieres que te cuente más o que registre alguna información adicional sobre ti?"
      ],
      "text/plain": [
       "<IPython.core.display.Markdown object>"
      ]
     },
     "metadata": {},
     "output_type": "display_data"
    }
   ],
   "source": [
    "async with MCPServerStdio(params=params, client_session_timeout_seconds=30) as mcp_server:\n",
    "    agent = Agent(name=\"agent\", instructions=instructions, model=model, mcp_servers=[mcp_server])\n",
    "    with trace(\"conversation\"):\n",
    "        result = await Runner.run(agent, \"Me llamo Juan Gabriel. ¿Qué sabes sobre mí? Utiliza las herramientas disponibles para encontrar información sobre mi.\")\n",
    "    display(Markdown(result.final_output))"
   ]
  },
  {
   "cell_type": "markdown",
   "metadata": {},
   "source": [
    "### Comprueba la traza:\n",
    "\n",
    "https://platform.openai.com/traces"
   ]
  },
  {
   "cell_type": "markdown",
   "metadata": {},
   "source": [
    "### El segundo tipo de servidor MCP: se ejecuta localmente, llama a un servicio web\n",
    "\n",
    "### Brave Search - disculpa, ¡esto necesitará otra clave de API! Pero es gratis de nuevo.\n",
    "\n",
    "https://brave.com/search/api/\n",
    "\n",
    "# Crea tu cuenta y pon tu clave en el archivo .env con el nombre `BRAVE_API_KEY`"
   ]
  },
  {
   "cell_type": "code",
   "execution_count": 29,
   "metadata": {},
   "outputs": [
    {
     "data": {
      "text/plain": [
       "[Tool(name='brave_web_search', description='Performs a web search using the Brave Search API, ideal for general queries, news, articles, and online content. Use this for broad information gathering, recent events, or when you need diverse web sources. Supports pagination, content filtering, and freshness controls. Maximum 20 results per request, with offset for pagination. ', inputSchema={'type': 'object', 'properties': {'query': {'type': 'string', 'description': 'Search query (max 400 chars, 50 words)'}, 'count': {'type': 'number', 'description': 'Number of results (1-20, default 10)', 'default': 10}, 'offset': {'type': 'number', 'description': 'Pagination offset (max 9, default 0)', 'default': 0}}, 'required': ['query']}, annotations=None),\n",
       " Tool(name='brave_local_search', description=\"Searches for local businesses and places using Brave's Local Search API. Best for queries related to physical locations, businesses, restaurants, services, etc. Returns detailed information including:\\n- Business names and addresses\\n- Ratings and review counts\\n- Phone numbers and opening hours\\nUse this when the query implies 'near me' or mentions specific locations. Automatically falls back to web search if no local results are found.\", inputSchema={'type': 'object', 'properties': {'query': {'type': 'string', 'description': \"Local search query (e.g. 'pizza near Central Park')\"}, 'count': {'type': 'number', 'description': 'Number of results (1-20, default 5)', 'default': 5}}, 'required': ['query']}, annotations=None)]"
      ]
     },
     "execution_count": 29,
     "metadata": {},
     "output_type": "execute_result"
    }
   ],
   "source": [
    "env = {\"BRAVE_API_KEY\": os.getenv(\"BRAVE_API_KEY\")}\n",
    "params = {\"command\": \"npx\", \"args\": [\"-y\", \"@modelcontextprotocol/server-brave-search\"], \"env\": env}\n",
    "\n",
    "async with MCPServerStdio(params=params) as server:\n",
    "    mcp_tools = await server.list_tools()\n",
    "\n",
    "mcp_tools"
   ]
  },
  {
   "cell_type": "code",
   "execution_count": 30,
   "metadata": {},
   "outputs": [],
   "source": [
    "instructions = \"Puedes buscar información en la web y resumir brevemente las conclusiones.\"\n",
    "request = f\"Por favor, investiga las últimas noticias sobre el precio de las acciones de Amazon y resume brevemente su perspectiva. \\\n",
    "Para contexto, la fecha actual es {datetime.now().strftime('%Y-%m-%d')}\"\n",
    "model = \"gpt-4o-mini\""
   ]
  },
  {
   "cell_type": "code",
   "execution_count": 31,
   "metadata": {},
   "outputs": [
    {
     "data": {
      "text/markdown": [
       "Aquí tienes un resumen de las últimas noticias sobre el precio de las acciones de Amazon (AMZN) al 17 de julio de 2025:\n",
       "\n",
       "1. **Cotización Actual**: El precio de las acciones de Amazon se encuentra en **$226.35** desde el 16 de julio de 2025.\n",
       "\n",
       "2. **Perspectivas de Precio**: Se pronostica que el valor de las acciones de Amazon podría alcanzar **$244.38** para finales de 2025, con una proyección a largo plazo de **$294.75** para finales de 2029.\n",
       "\n",
       "3. **Rango de Cotización**: Para el año 2025, los analistas estiman que el precio de las acciones oscilará entre **$151.78** y **$181.94**.\n",
       "\n",
       "Estos datos sugieren una expectativa de crecimiento a mediano y largo plazo, con fluctuaciones en el corto plazo."
      ],
      "text/plain": [
       "<IPython.core.display.Markdown object>"
      ]
     },
     "metadata": {},
     "output_type": "display_data"
    }
   ],
   "source": [
    "async with MCPServerStdio(params=params, client_session_timeout_seconds=30) as mcp_server:\n",
    "    agent = Agent(name=\"agent\", instructions=instructions, model=model, mcp_servers=[mcp_server])\n",
    "    with trace(\"conversation\"):\n",
    "        result = await Runner.run(agent, request)\n",
    "    display(Markdown(result.final_output))"
   ]
  },
  {
   "cell_type": "markdown",
   "metadata": {},
   "source": [
    "### Y como siempre, comprobamos la traza en:\n",
    "\n",
    "https://platform.openai.com/traces"
   ]
  },
  {
   "cell_type": "markdown",
   "metadata": {},
   "source": [
    "## Y ahora el tercer tipo: ejecución remota\n",
    "\n",
    "En realidad, es bastante difícil encontrar un \"servidor MCP remoto\", también conocido como \"servidor MCP alojado\" o \"servidor MCP gestionado\".\n",
    "\n",
    "No es un modelo común para usar o compartir servidores MCP, y no existe una forma estándar de descubrir servidores MCP remotos.\n",
    "\n",
    "Anthropic enumera algunos servidores MCP remotos, pero estos son para aplicaciones de pago con usuarios empresariales:\n",
    "\n",
    "https://docs.anthropic.com/en/docs/agents-and-tools/remote-mcp-servers\n",
    "\n",
    "CloudFlare tiene herramientas para que puedas crear y desplegar tus propios servidores MCP remotos, pero esto no parece ser una práctica común:\n",
    "\n",
    "https://developers.cloudflare.com/agents/guides/remote-mcp-server/\n"
   ]
  },
  {
   "cell_type": "markdown",
   "metadata": {},
   "source": [
    "# Y de vuelta al segundo tipo: el servidor MCP de Polygon.io"
   ]
  },
  {
   "cell_type": "markdown",
   "metadata": {},
   "source": [
    "<table style=\"margin: 0; text-align: left; width:100%\">\n",
    "    <tr>\n",
    "        <td style=\"width: 150px; height: 150px; vertical-align: middle;\">\n",
    "            <img src=\"../assets/stop.png\" width=\"150\" height=\"150\" style=\"display: block;\" />\n",
    "        </td>\n",
    "        <td>\n",
    "            <h2 style=\"color:#ff7800;\">¡¡POR FAVOR; LEE!!</h2>\n",
    "             <span style=\"color:#ff7800;\">Este servicio de datos financieros de mercado tiene tanto un plan GRATUITO como un plan DE PAGO, y podemos usar cualquiera de los dos según tu preferencia.\n",
    "            </span>\n",
    "        </td>\n",
    "    </tr>\n",
    "</table>"
   ]
  },
  {
   "cell_type": "markdown",
   "metadata": {},
   "source": [
    "## NUEVA SECCIÓN: Introducción a polygon.io\n",
    "\n",
    "Polygon.io es un proveedor de datos financieros muy popular. Tiene un plan gratuito y un plan de pago. ¡Y también tiene un servidor MCP!\n",
    "\n",
    "Primero, infórmate sobre polygon.io en su excelente sitio web, incluyendo su sección de precios:\n",
    "\n",
    "https://polygon.io\n",
    "\n",
    "### Polygon.io Parte 1: Servicio gratuito de Polygon.io (el de pago será totalmente opcional, por supuesto)\n",
    "\n",
    "1. Por favor, regístrate en polygon.io (arriba a la derecha)\n",
    "2. Una vez dentro, selecciona \"Keys\" en la navegación de la izquierda\n",
    "3. Pulsa el botón azul \"New Key\"\n",
    "4. Copia el nombre de la clave\n",
    "5. Edita tu archivo .env y añade la línea:\n",
    "\n",
    "`POLYGON_API_KEY=xxxx`"
   ]
  },
  {
   "cell_type": "code",
   "execution_count": 32,
   "metadata": {},
   "outputs": [],
   "source": [
    "load_dotenv(override=True)\n",
    "polygon_api_key = os.getenv(\"POLYGON_API_KEY\")\n",
    "if not polygon_api_key:\n",
    "    print(\"POLYGON_API_KEY is not set\")"
   ]
  },
  {
   "cell_type": "code",
   "execution_count": 33,
   "metadata": {},
   "outputs": [
    {
     "data": {
      "text/plain": [
       "PreviousCloseAgg(ticker='AAPL', close=210.16, high=212.4, low=208.64, open=210.295, timestamp=1752696000000, volume=47490532.0, vwap=210.3633)"
      ]
     },
     "execution_count": 33,
     "metadata": {},
     "output_type": "execute_result"
    }
   ],
   "source": [
    "from polygon import RESTClient\n",
    "client = RESTClient(polygon_api_key)\n",
    "client.get_previous_close_agg(\"AAPL\")[0]"
   ]
  },
  {
   "cell_type": "markdown",
   "metadata": {},
   "source": [
    "### Envuelto en un módulo de Python que almacena en caché los precios de cierre\n",
    "\n",
    "He creado un módulo de Python llamado `market.py` que utiliza esta API para consultar los precios de las acciones.\n",
    "\n",
    "Pero la API gratuita tiene bastantes limitaciones de uso, así que he sido un poco astuto: cuando pides el precio de una acción, esta función recupera todo el mercado de acciones al cierre del día y lo almacena en caché en nuestra base de datos.\n"
   ]
  },
  {
   "cell_type": "code",
   "execution_count": 34,
   "metadata": {},
   "outputs": [
    {
     "data": {
      "text/plain": [
       "210.16"
      ]
     },
     "execution_count": 34,
     "metadata": {},
     "output_type": "execute_result"
    }
   ],
   "source": [
    "from market import get_share_price\n",
    "get_share_price(\"AAPL\")"
   ]
  },
  {
   "cell_type": "code",
   "execution_count": 35,
   "metadata": {},
   "outputs": [
    {
     "data": {
      "text/plain": [
       "210.16"
      ]
     },
     "execution_count": 35,
     "metadata": {},
     "output_type": "execute_result"
    }
   ],
   "source": [
    "# no rate limiting concerns!\n",
    "\n",
    "for i in range(1000):\n",
    "    get_share_price(\"AAPL\")\n",
    "get_share_price(\"AAPL\")"
   ]
  },
  {
   "cell_type": "markdown",
   "metadata": {},
   "source": [
    "### Y he convertido esto en un servidor MCP\n",
    "\n",
    "Igual que hicimos con accounts.py; mira `market_server.py`"
   ]
  },
  {
   "cell_type": "code",
   "execution_count": 36,
   "metadata": {},
   "outputs": [
    {
     "data": {
      "text/plain": [
       "[Tool(name='lookup_share_price', description='Esta herramienta proporciona el precio actual del símbolo de acción dado.\\n\\n    Argumentos:\\n        symbol: el símbolo de la acción\\n    ', inputSchema={'properties': {'symbol': {'title': 'Symbol', 'type': 'string'}}, 'required': ['symbol'], 'title': 'lookup_share_priceArguments', 'type': 'object'}, annotations=None)]"
      ]
     },
     "execution_count": 36,
     "metadata": {},
     "output_type": "execute_result"
    }
   ],
   "source": [
    "params = {\"command\": \"uv\", \"args\": [\"run\", \"market_server.py\"]}\n",
    "async with MCPServerStdio(params=params) as server:\n",
    "    mcp_tools = await server.list_tools()\n",
    "mcp_tools"
   ]
  },
  {
   "cell_type": "markdown",
   "metadata": {},
   "source": [
    "### ¡Vamos a probarlo!\n",
    "\n",
    "#Esperemos que gpt-4o-mini sea lo suficientemente inteligente como para saber que el símbolo de Apple es AAPL"
   ]
  },
  {
   "cell_type": "code",
   "execution_count": 37,
   "metadata": {},
   "outputs": [
    {
     "data": {
      "text/markdown": [
       "El precio actual de la acción de Apple (AAPL) es de 210.16 dólares. ¿Quieres saber algo más sobre esta acción o alguna otra?"
      ],
      "text/plain": [
       "<IPython.core.display.Markdown object>"
      ]
     },
     "metadata": {},
     "output_type": "display_data"
    }
   ],
   "source": [
    "instructions = \"Respondes preguntas sobre el mercado de valores.\"\n",
    "request = \"¿Cuál es el precio de la acción de Apple?\"\n",
    "model = \"gpt-4.1-mini\"\n",
    "\n",
    "async with MCPServerStdio(params=params) as mcp_server:\n",
    "    agent = Agent(name=\"agent\", instructions=instructions, model=model, mcp_servers=[mcp_server])\n",
    "    with trace(\"conversation\"):\n",
    "        result = await Runner.run(agent, request)\n",
    "    display(Markdown(result.final_output))"
   ]
  },
  {
   "cell_type": "markdown",
   "metadata": {},
   "source": [
    "## Polygon.io Parte 2: Plan de Pago - ¡Totalmente Opcional!\n",
    " \n",
    "Si te interesa, puedes suscribirte al plan mensual para obtener datos de mercado más actualizados y llamadas ilimitadas a la API.\n",
    "\n",
    "Si decides hacerlo, también tiene sentido usar el servidor MCP completo que Polygon.io ha lanzado, para aprovechar toda su funcionalidad.\n"
   ]
  },
  {
   "cell_type": "code",
   "execution_count": null,
   "metadata": {},
   "outputs": [],
   "source": [
    "\n",
    "params = {\"command\": \"uvx\",\n",
    "          \"args\": [\"--from\", \"git+https://github.com/polygon-io/mcp_polygon@master\", \"mcp_polygon\"],\n",
    "          \"env\": {\"POLYGON_API_KEY\": polygon_api_key}\n",
    "          }\n",
    "async with MCPServerStdio(params=params) as server:\n",
    "    mcp_tools = await server.list_tools()\n",
    "mcp_tools\n"
   ]
  },
  {
   "cell_type": "markdown",
   "metadata": {},
   "source": [
    "### ¡Vaya, eso son muchas herramientas!\n",
    "\n",
    "¡Vamos a probarlas! Esperemos que la gran cantidad de herramientas no abrume a gpt-4o-mini.\n",
    "\n",
    "Con el plan mensual de $29, no tenemos acceso a algunas de las APIs, así que he tenido que especificar cuáles se pueden usar.\n",
    " \n",
    "Si te has suscrito a un plan más grande, siéntete libre de quitar mi restricción extra."
   ]
  },
  {
   "cell_type": "code",
   "execution_count": null,
   "metadata": {},
   "outputs": [],
   "source": [
    "instructions = \"Respondes preguntas sobre el mercado de valores.\"\n",
    "request = \"¿Cuál es el precio de la acción de Apple? Usa tu herramienta get_snapshot_ticker para obtener el precio más reciente.\"\n",
    "model = \"gpt-4.1-mini\"\n",
    "\n",
    "async with MCPServerStdio(params=params) as mcp_server:\n",
    "    agent = Agent(name=\"agent\", instructions=instructions, model=model, mcp_servers=[mcp_server])\n",
    "    with trace(\"conversation\"):\n",
    "        result = await Runner.run(agent, request)\n",
    "    display(Markdown(result.final_output))"
   ]
  },
  {
   "cell_type": "markdown",
   "metadata": {},
   "source": [
    "## Configurando tu archivo .env\n",
    "\n",
    "Si decides suscribirte a un plan de pago, por favor añade esto a tu archivo .env para indicarlo:\n",
    "\n",
    "`POLYGON_PLAN=paid`\n",
    "\n",
    "Y si decides ir a por la API en tiempo real, entonces añade lo siguiente:\n",
    "\n",
    "`POLYGON_PLAN=realtime`"
   ]
  },
  {
   "cell_type": "code",
   "execution_count": 43,
   "metadata": {},
   "outputs": [
    {
     "name": "stdout",
     "output_type": "stream",
     "text": [
      "Según tu archivo .env, has elegido suscribirte al plan gratuito de Polygon, así que el código consultará precios de cierre diario (EOD)\n"
     ]
    }
   ],
   "source": [
    "load_dotenv(override=True)\n",
    "\n",
    "polygon_plan = os.getenv(\"POLYGON_PLAN\")\n",
    "is_paid_polygon = polygon_plan == \"paid\"\n",
    "is_realtime_polygon = polygon_plan == \"realtime\"\n",
    "\n",
    "if is_paid_polygon:\n",
    "    print(\"Has elegido suscribirte al plan de pago de Polygon, así que el código consultará precios con un retraso de 15 minutos\")\n",
    "elif is_realtime_polygon:\n",
    "    print(\"¡Vaya! Has elegido suscribirte al plan en tiempo real de Polygon, así que el código consultará precios en tiempo real\")\n",
    "else:\n",
    "    print(\"Según tu archivo .env, has elegido suscribirte al plan gratuito de Polygon, así que el código consultará precios de cierre diario (EOD)\")"
   ]
  },
  {
   "cell_type": "markdown",
   "metadata": {},
   "source": [
    "## ¡Y eso es todo por hoy!\n",
    "\n",
    "He eliminado la parte de este laboratorio que usaba el servidor MCP \"Financial Datasets\", porque es inferior: más caro y con menos APIs.\n",
    "\n",
    "Dr esta manera, usamos el mismo proveedor tanto para las APIs gratuitas como para las de pago.\n",
    "\n",
    "Pero si quieres ver el código, solo tienes que mirar en el historial de git una versión anterior."
   ]
  },
  {
   "cell_type": "markdown",
   "metadata": {},
   "source": [
    "<table style=\"margin: 0; text-align: left; width:100%\">\n",
    "    <tr>\n",
    "        <td style=\"width: 150px; height: 150px; vertical-align: middle;\">\n",
    "            <img src=\"../assets/exercise.png\" width=\"150\" height=\"150\" style=\"display: block;\" />\n",
    "        </td>\n",
    "        <td>\n",
    "            <h2 style=\"color:#ff7800;\">Ejercicios</h2>\n",
    "#             <span style=\"color:#ff7800;\">Explora los marketplaces de servidores MCP e integra el tuyo propio, utilizando los 3 enfoques.\n",
    "            </span>\n",
    "        </td>\n",
    "    </tr>\n",
    "</table>"
   ]
  },
  {
   "cell_type": "markdown",
   "metadata": {},
   "source": []
  }
 ],
 "metadata": {
  "kernelspec": {
   "display_name": ".venv",
   "language": "python",
   "name": "python3"
  },
  "language_info": {
   "codemirror_mode": {
    "name": "ipython",
    "version": 3
   },
   "file_extension": ".py",
   "mimetype": "text/x-python",
   "name": "python",
   "nbconvert_exporter": "python",
   "pygments_lexer": "ipython3",
   "version": "3.12.11"
  }
 },
 "nbformat": 4,
 "nbformat_minor": 2
}
