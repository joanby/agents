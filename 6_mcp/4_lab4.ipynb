{
 "cells": [
  {
   "cell_type": "markdown",
   "metadata": {},
   "source": [
    "<table style=\"margin: 0; text-align: left; width:100%\">\n",
    "    <tr>\n",
    "        <td style=\"width: 220px; height: 150px; vertical-align: middle;\">\n",
    "            <img src=\"../assets/aaa.png\" width=\"220\" height=\"150\" style=\"display: block;\" />\n",
    "        </td>\n",
    "        <td>\n",
    "            <h2 style=\"color:#ff7800;\">Traders Autónomos</h2>\n",
    "             <span style=\"color:#ff7800;\">Una simulación de compraventa de acciones para ilustrar agentes autónomos impulsados por herramientas y recursos de los servidores MCP.\n",
    "            </span>\n",
    "        </td>\n",
    "    </tr>\n",
    "</table>"
   ]
  },
  {
   "cell_type": "markdown",
   "metadata": {},
   "source": [
    "### Semana 6 Día 4\n",
    "\n",
    "Y ahora - presentamos el proyecto final:\n",
    "\n",
    "\n",
    "# Traders Autónomos\n",
    "\n",
    "Una simulación de compraventa de acciones, con 4 Traders y un Investigador, impulsada por una serie de servidores MCP con herramientas y recursos:\n",
    "\n",
    "1. Nuestro propio servidor MCP de Cuentas (¡escrito por nuestro equipo de ingeniería!)\n",
    "2. Fetch (obtener una página web mediante un navegador local sin interfaz gráfica)\n",
    "3. Memoria\n",
    "4. Brave Search\n",
    "5. Datos financieros\n",
    "\n",
    "Y un recurso para leer información sobre la cuenta del trader y su estrategia de inversión.\n",
    "\n",
    "El objetivo del laboratorio de hoy es crear un nuevo módulo de Python, `traders.py`, que gestionará a un solo trader en nuestro piso de operaciones.\n",
    "\n",
    "Vamos a experimentar y explorar en el laboratorio, y luego migraremos a un módulo de Python cuando estemos listos.\n"
   ]
  },
  {
   "cell_type": "markdown",
   "metadata": {},
   "source": [
    "<table style=\"margin: 0; text-align: left; width:100%\">\n",
    "    <tr>\n",
    "        <td style=\"width: 150px; height: 150px; vertical-align: middle;\">\n",
    "            <img src=\"../assets/stop.png\" width=\"150\" height=\"150\" style=\"display: block;\" />\n",
    "        </td>\n",
    "        <td>\n",
    "            <h2 style=\"color:#ff7800;\">Una vez más --</h2>\n",
    "             <span style=\"color:#ff7800;\">¡Por favor, no uses esto para decisiones reales de inversión!\n",
    "            </span>\n",
    "        </td>\n",
    "    </tr>\n",
    "</table>"
   ]
  },
  {
   "cell_type": "code",
   "execution_count": 1,
   "metadata": {},
   "outputs": [
    {
     "data": {
      "text/plain": [
       "True"
      ]
     },
     "execution_count": 1,
     "metadata": {},
     "output_type": "execute_result"
    }
   ],
   "source": [
    "import os\n",
    "from dotenv import load_dotenv\n",
    "from agents import Agent, Runner, trace, Tool\n",
    "from agents.mcp import MCPServerStdio\n",
    "from IPython.display import Markdown, display\n",
    "from datetime import datetime\n",
    "from accounts_client import read_accounts_resource, read_strategy_resource\n",
    "from accounts import Account\n",
    "\n",
    "load_dotenv(override=True)"
   ]
  },
  {
   "cell_type": "markdown",
   "metadata": {},
   "source": [
    "### Empecemos por reunir los parámetros MCP para nuestro trader"
   ]
  },
  {
   "cell_type": "code",
   "execution_count": 2,
   "metadata": {},
   "outputs": [
    {
     "name": "stdout",
     "output_type": "stream",
     "text": [
      "False\n",
      "False\n"
     ]
    }
   ],
   "source": [
    "polygon_api_key = os.getenv(\"POLYGON_API_KEY\")\n",
    "polygon_plan = os.getenv(\"POLYGON_PLAN\")\n",
    "\n",
    "is_paid_polygon = polygon_plan == \"paid\"\n",
    "is_realtime_polygon = polygon_plan == \"realtime\"\n",
    "\n",
    "print(is_paid_polygon)\n",
    "print(is_realtime_polygon)"
   ]
  },
  {
   "cell_type": "code",
   "execution_count": 3,
   "metadata": {},
   "outputs": [],
   "source": [
    "if is_paid_polygon or is_realtime_polygon:\n",
    "    market_mcp = {\"command\": \"uvx\",\"args\": [\"--from\", \"git+https://github.com/polygon-io/mcp_polygon@master\", \"mcp_polygon\"], \"env\": {\"POLYGON_API_KEY\": polygon_api_key}}\n",
    "else:\n",
    "    market_mcp = ({\"command\": \"uv\", \"args\": [\"run\", \"market_server.py\"]})\n",
    "\n",
    "trader_mcp_server_params = [\n",
    "    {\"command\": \"uv\", \"args\": [\"run\", \"accounts_server.py\"]},\n",
    "    {\"command\": \"uv\", \"args\": [\"run\", \"push_server.py\"]},\n",
    "    market_mcp\n",
    "]"
   ]
  },
  {
   "cell_type": "markdown",
   "metadata": {},
   "source": [
    "### Y ahora nuestro investigador\n"
   ]
  },
  {
   "cell_type": "code",
   "execution_count": 4,
   "metadata": {},
   "outputs": [],
   "source": [
    "brave_env = {\"BRAVE_API_KEY\": os.getenv(\"BRAVE_API_KEY\")}\n",
    "\n",
    "researcher_mcp_server_params = [\n",
    "    {\"command\": \"uvx\", \"args\": [\"mcp-server-fetch\"]},\n",
    "    {\"command\": \"npx\", \"args\": [\"-y\", \"@modelcontextprotocol/server-brave-search\"], \"env\": brave_env}\n",
    "]"
   ]
  },
  {
   "cell_type": "markdown",
   "metadata": {},
   "source": [
    "### Ahora crea el MCPServerStdio para cada uno"
   ]
  },
  {
   "cell_type": "code",
   "execution_count": 5,
   "metadata": {},
   "outputs": [],
   "source": [
    "researcher_mcp_servers = [MCPServerStdio(params, client_session_timeout_seconds=30) for params in researcher_mcp_server_params]\n",
    "trader_mcp_servers = [MCPServerStdio(params, client_session_timeout_seconds=30) for params in trader_mcp_server_params]\n",
    "mcp_servers = trader_mcp_servers + researcher_mcp_servers"
   ]
  },
  {
   "cell_type": "markdown",
   "metadata": {},
   "source": [
    "### Ahora vamos a crear un Agente Investigador para hacer investigación de mercado\n",
    "\n",
    "Y convertirlo en una herramienta - recuerda cómo funciona esto para el SDK de OpenAI Agents, y la diferencia con los handoffs."
   ]
  },
  {
   "cell_type": "code",
   "execution_count": 6,
   "metadata": {},
   "outputs": [],
   "source": [
    "async def get_researcher(mcp_servers) -> Agent:\n",
    "    instructions = f\"\"\"Eres un investigador financiero. Puedes buscar en la web noticias financieras interesantes,\n",
    "buscar posibles oportunidades de trading y ayudar con la investigación.\n",
    "Según la solicitud, llevas a cabo la investigación necesaria y respondes con tus hallazgos.\n",
    "Tómate el tiempo para realizar múltiples búsquedas y obtener una visión completa, luego resume tus hallazgos.\n",
    "Si no hay una solicitud específica, simplemente responde con oportunidades de inversión basadas en la búsqueda de las últimas noticias.\n",
    "La fecha y hora actual es {datetime.now().strftime(\"%Y-%m-%d %H:%M:%S\")}\n",
    "\"\"\"\n",
    "    researcher = Agent(\n",
    "        name=\"Researcher\",\n",
    "        instructions=instructions,\n",
    "        model=\"gpt-4.1-mini\",\n",
    "        mcp_servers=mcp_servers,\n",
    "    )\n",
    "    return researcher"
   ]
  },
  {
   "cell_type": "code",
   "execution_count": 7,
   "metadata": {},
   "outputs": [],
   "source": [
    "async def get_researcher_tool(mcp_servers) -> Tool:\n",
    "    researcher = await get_researcher(mcp_servers)\n",
    "    return researcher.as_tool(\n",
    "            tool_name=\"Researcher\",\n",
    "            tool_description=\"Esta herramienta investiga en línea noticias y oportunidades, \\\n",
    "                ya sea según tu solicitud específica para analizar una acción en particular, \\\n",
    "                o en general para encontrar noticias y oportunidades financieras destacadas. \\\n",
    "                Describe qué tipo de investigación deseas que realice.\"\n",
    "        )"
   ]
  },
  {
   "cell_type": "code",
   "execution_count": 8,
   "metadata": {},
   "outputs": [
    {
     "data": {
      "text/markdown": [
       "Estas son las últimas noticias destacadas sobre Amazon en 2025:\n",
       "\n",
       "1. Amazon celebró su evento de dispositivos 2025 donde presentaron el nuevo Alexa+ y otros productos relacionados. (Fuente: aboutamazon.com)\n",
       "\n",
       "2. Amazon Upfront 2025 mostró su visión para el futuro del entretenimiento y la publicidad, con anuncios de nuevas series, películas, deportes y tecnología publicitaria. (Fuente: advertising.amazon.com)\n",
       "\n",
       "3. Amazon publicó su informe financiero del primer trimestre de 2025 con resultados destacados. (Fuente: aboutamazon.com)\n",
       "\n",
       "4. Amazon Prime Day 2025 fue el evento más grande de Prime Day hasta la fecha, con récord de ventas y ahorros para clientes en un evento de cuatro días. (Fuente: aboutamazon.com)\n",
       "\n",
       "5. AWS anunció nuevas innovaciones para construir agentes de IA, incluyendo acceso a los modelos de IA más avanzados de Meta a través de Amazon Bedrock y SageMaker JumpStart. (Fuente: aboutamazon.com)\n",
       "\n",
       "6. El AWS Summit en Nueva York 2025 presentó importantes lanzamientos en IA, como mejoras en Nova, Bedrock AgentCore y AI Agents. (Fuente: aws.amazon.com)\n",
       "\n",
       "¿Quieres que profundice en alguna de estas noticias o deseas información de algún otro tema relacionado con Amazon?"
      ],
      "text/plain": [
       "<IPython.core.display.Markdown object>"
      ]
     },
     "metadata": {},
     "output_type": "display_data"
    }
   ],
   "source": [
    "research_question = \"¿Cuáles son las últimas noticias de Amazon?\"\n",
    "\n",
    "for server in researcher_mcp_servers:\n",
    "    await server.connect()\n",
    "researcher = await get_researcher(researcher_mcp_servers)\n",
    "with trace(\"Researcher\"):\n",
    "    result = await Runner.run(researcher, research_question, max_turns=30)\n",
    "display(Markdown(result.final_output))\n",
    "\n"
   ]
  },
  {
   "cell_type": "markdown",
   "metadata": {},
   "source": [
    "### Revisamos la traza\n",
    "\n",
    "https://platform.openai.com/traces"
   ]
  },
  {
   "cell_type": "code",
   "execution_count": 9,
   "metadata": {},
   "outputs": [
    {
     "data": {
      "text/markdown": [
       "{\"name\": \"juangabriel\", \"balance\": 10000.0, \"strategy\": \"Eres un day trader que compra y vende acciones de forma agresiva seg\\u00fan las noticias y las condiciones del mercado.\", \"holdings\": {}, \"transactions\": [], \"portfolio_value_time_series\": [[\"2025-07-18 08:43:35\", 10000.0]], \"total_portfolio_value\": 10000.0, \"total_profit_loss\": 0.0}"
      ],
      "text/plain": [
       "<IPython.core.display.Markdown object>"
      ]
     },
     "metadata": {},
     "output_type": "display_data"
    },
    {
     "data": {
      "text/markdown": [
       "Eres un day trader que compra y vende acciones de forma agresiva según las noticias y las condiciones del mercado."
      ],
      "text/plain": [
       "<IPython.core.display.Markdown object>"
      ]
     },
     "metadata": {},
     "output_type": "display_data"
    }
   ],
   "source": [
    "juangabriel_initial_strategy = \"Eres un day trader que compra y vende acciones de forma agresiva según las noticias y las condiciones del mercado.\"\n",
    "Account.get(\"JuanGabriel\").reset(juangabriel_initial_strategy)\n",
    "\n",
    "display(Markdown(await read_accounts_resource(\"JuanGabriel\")))\n",
    "display(Markdown(await read_strategy_resource(\"JuanGabriel\")))"
   ]
  },
  {
   "cell_type": "markdown",
   "metadata": {},
   "source": [
    "### Y ahora, vamos a crear nuestro agente de trading"
   ]
  },
  {
   "cell_type": "code",
   "execution_count": 10,
   "metadata": {},
   "outputs": [],
   "source": [
    "agent_name = \"JuanGabriel\"\n",
    "\n",
    "# Using MCP Servers to read resources\n",
    "account_details = await read_accounts_resource(agent_name)\n",
    "strategy = await read_strategy_resource(agent_name)\n",
    "\n",
    "instructions = f\"\"\"\n",
    "Eres un trader que gestiona una cartera de acciones. Tu nombre es {agent_name} y tu cuenta está a tu nombre, {agent_name}.\n",
    "Tienes acceso a herramientas que te permiten buscar noticias de empresas en internet, consultar precios de acciones y comprar y vender acciones.\n",
    "Tu estrategia de inversión para tu cartera es:\n",
    "{strategy}\n",
    "Tus posiciones actuales y saldo son:\n",
    "{account_details}\n",
    "Tienes herramientas para realizar búsquedas web de noticias e información relevante.\n",
    "Tienes herramientas para consultar precios de acciones.\n",
    "Tienes herramientas para comprar y vender acciones.\n",
    "Tienes herramientas para guardar memoria de empresas, investigaciones y reflexiones hasta el momento.\n",
    "Por favor, utiliza estas herramientas para gestionar tu cartera. Realiza operaciones según lo consideres conveniente; no esperes instrucciones ni pidas confirmación.\n",
    "\"\"\"\n",
    "\n",
    "prompt = \"\"\"\n",
    "Utiliza tus herramientas para tomar decisiones sobre tu cartera.\n",
    "Investiga las noticias y el mercado, toma tu decisión, realiza las operaciones y responde con un resumen de tus acciones.\n",
    "\"\"\""
   ]
  },
  {
   "cell_type": "code",
   "execution_count": 11,
   "metadata": {},
   "outputs": [
    {
     "name": "stdout",
     "output_type": "stream",
     "text": [
      "\n",
      "Eres un trader que gestiona una cartera de acciones. Tu nombre es JuanGabriel y tu cuenta está a tu nombre, JuanGabriel.\n",
      "Tienes acceso a herramientas que te permiten buscar noticias de empresas en internet, consultar precios de acciones y comprar y vender acciones.\n",
      "Tu estrategia de inversión para tu cartera es:\n",
      "Eres un day trader que compra y vende acciones de forma agresiva según las noticias y las condiciones del mercado.\n",
      "Tus posiciones actuales y saldo son:\n",
      "{\"name\": \"juangabriel\", \"balance\": 10000.0, \"strategy\": \"Eres un day trader que compra y vende acciones de forma agresiva seg\\u00fan las noticias y las condiciones del mercado.\", \"holdings\": {}, \"transactions\": [], \"portfolio_value_time_series\": [[\"2025-07-18 08:43:35\", 10000.0], [\"2025-07-18 08:46:36\", 10000.0]], \"total_portfolio_value\": 10000.0, \"total_profit_loss\": 0.0}\n",
      "Tienes herramientas para realizar búsquedas web de noticias e información relevante.\n",
      "Tienes herramientas para consultar precios de acciones.\n",
      "Tienes herramientas para comprar y vender acciones.\n",
      "Tienes herramientas para guardar memoria de empresas, investigaciones y reflexiones hasta el momento.\n",
      "Por favor, utiliza estas herramientas para gestionar tu cartera. Realiza operaciones según lo consideres conveniente; no esperes instrucciones ni pidas confirmación.\n",
      "\n"
     ]
    }
   ],
   "source": [
    "print(instructions)"
   ]
  },
  {
   "cell_type": "markdown",
   "metadata": {},
   "source": [
    "### Y ejecutamos nuestro Trader"
   ]
  },
  {
   "cell_type": "code",
   "execution_count": 12,
   "metadata": {},
   "outputs": [
    {
     "data": {
      "text/markdown": [
       "### Resumen de Acciones Realizadas\n",
       "\n",
       "1. **Investigación y Análisis**:\n",
       "   - Revisé las últimas noticias en el sector tecnológico y encontré oportunidades en acciones específicas que han mostrado un crecimiento reciente.\n",
       "   - Identifiqué acciones con buen potencial: **DocuSign (DOCU)** y **Kyndryl Holdings (KD)**.\n",
       "\n",
       "2. **Operaciones Realizadas**:\n",
       "   - **Compra de 100 acciones de DocuSign (DOCU)** a un precio de $77.78 cada una. \n",
       "     - **Rationale**: Oportunidad de rebote técnico tras un aumento del 27% en el último mes.\n",
       "   - **Compra de 150 acciones de Kyndryl Holdings (KD)** a un precio de $39.16 cada una.\n",
       "     - **Rationale**: Kyndryl mostró un aumento del 70% en 2025, con proyecciones adicionales de crecimiento.\n",
       "\n",
       "3. **Estado de la Cartera**:\n",
       "   - **Saldo después de las transacciones**: $9,984.48\n",
       "   - **Posiciones actuales**:\n",
       "     - **DocuSign (DOCU)**: 100 acciones\n",
       "     - No se pudo comprar Kyndryl Holdings debido a la falta de fondos, y tampoco se pudieron adquirir acciones de First Solar (FSLR) ni Enphase (ENPH) por la misma razón.\n",
       "\n",
       "### Siguientes Pasos:\n",
       "\n",
       "- Continuaré monitoreando las oportunidades en el sector de energías renovables y prepararía futuras compraventas basadas en las condiciones del mercado y nuevas noticias.\n",
       "- Si buscas acciones específicas o deseas acciones de otras industrias, házmelo saber."
      ],
      "text/plain": [
       "<IPython.core.display.Markdown object>"
      ]
     },
     "metadata": {},
     "output_type": "display_data"
    }
   ],
   "source": [
    "for server in mcp_servers:\n",
    "    await server.connect()\n",
    "\n",
    "researcher_tool = await get_researcher_tool(researcher_mcp_servers)\n",
    "trader = Agent(\n",
    "    name=agent_name,\n",
    "    instructions=instructions,\n",
    "    tools=[researcher_tool],\n",
    "    mcp_servers=trader_mcp_servers,\n",
    "    model=\"gpt-4o-mini\",\n",
    ")\n",
    "with trace(agent_name):\n",
    "    result = await Runner.run(trader, prompt, max_turns=30)\n",
    "display(Markdown(result.final_output))"
   ]
  },
  {
   "cell_type": "markdown",
   "metadata": {},
   "source": [
    "### Vamos a revisar la traza:\n",
    "\n",
    "http://platform.openai.com/traces\n"
   ]
  },
  {
   "cell_type": "code",
   "execution_count": 13,
   "metadata": {},
   "outputs": [
    {
     "data": {
      "text/plain": [
       "'{\"name\": \"juangabriel\", \"balance\": 2222.4759999999987, \"strategy\": \"Eres un day trader que compra y vende acciones de forma agresiva seg\\\\u00fan las noticias y las condiciones del mercado.\", \"holdings\": {\"DOCU\": 100}, \"transactions\": [{\"symbol\": \"DOCU\", \"quantity\": 100, \"price\": 77.77524000000001, \"timestamp\": \"2025-07-18 08:47:59\", \"rationale\": \"Oportunidad de rebote t\\\\u00e9cnico tras un aumento del 27% en el \\\\u00faltimo mes y mejora en perspectivas.\"}], \"portfolio_value_time_series\": [[\"2025-07-18 08:43:35\", 10000.0], [\"2025-07-18 08:46:36\", 10000.0], [\"2025-07-18 08:47:59\", 9984.475999999999], [\"2025-07-18 08:52:58\", 9984.475999999999]], \"total_portfolio_value\": 9984.475999999999, \"total_profit_loss\": -15.524000000001251}'"
      ]
     },
     "execution_count": 13,
     "metadata": {},
     "output_type": "execute_result"
    }
   ],
   "source": [
    "# Y hora de ver los resultados del trading\n",
    "\n",
    "await read_accounts_resource(agent_name)"
   ]
  },
  {
   "cell_type": "markdown",
   "metadata": {},
   "source": [
    "### Ahora es momento de revisar el módulo de Python creado a partir de esto:\n",
    "\n",
    "- `mcp_params.py` es donde se especifican los servidores MCP. ¡Verás que he traído algunos viejos conocidos: memoria y notificaciones push!\n",
    "- `templates.py` es donde se configuran las instrucciones y mensajes (es decir, los prompts del sistema y del usuario).\n",
    "- `traders.py` lo une todo.\n",
    "\n",
    "Notarás que he hecho algo un poco elegante con código como este:\n",
    "\n",
    "```\n",
    "async with AsyncExitStack() as stack:\n",
    "    mcp_servers = [await stack.enter_async_context(MCPServerStdio(params)) for params in mcp_server_params]\n",
    "```\n",
    "\n",
    "Esto es simplemente una forma ordenada de combinar nuestras sentencias \"with\" (conocidas como gestores de contexto) para que no tengamos que hacer algo feo como esto:\n",
    " \n",
    "```\n",
    "async with MCPServerStdio(params=params1) as mcp_server1:\n",
    "    async with MCPServerStdio(params=params2) as mcp_server2:\n",
    "        async with MCPServerStdio(params=params3) as mcp_server3:\n",
    "            mcp_servers = [mcp_server1, mcp_server2, mcp_server3]\n",
    "```\n",
    "\n",
    "Pero es equivalente.\n"
   ]
  },
  {
   "cell_type": "code",
   "execution_count": 2,
   "metadata": {},
   "outputs": [],
   "source": [
    "from traders import Trader\n"
   ]
  },
  {
   "cell_type": "code",
   "execution_count": null,
   "metadata": {},
   "outputs": [],
   "source": [
    "trader = Trader(\"JuanGabriel\")"
   ]
  },
  {
   "cell_type": "code",
   "execution_count": null,
   "metadata": {},
   "outputs": [],
   "source": [
    "await trader.run()"
   ]
  },
  {
   "cell_type": "code",
   "execution_count": null,
   "metadata": {},
   "outputs": [],
   "source": [
    "await read_accounts_resource(\"JuanGabriel\")"
   ]
  },
  {
   "cell_type": "markdown",
   "metadata": {},
   "source": [
    "### Revisamos la traza:\n",
    "\n",
    "https://platform.openai.com/traces\n",
    "\n",
    "### ¿Cuántas herramientas hemos usado en total?"
   ]
  },
  {
   "cell_type": "code",
   "execution_count": null,
   "metadata": {},
   "outputs": [],
   "source": [
    "from mcp_params import trader_mcp_server_params, researcher_mcp_server_params\n",
    "\n",
    "all_params = trader_mcp_server_params + researcher_mcp_server_params(\"JuanGabriel\")\n",
    "\n",
    "count = 0\n",
    "for each_params in all_params:\n",
    "    async with MCPServerStdio(params=each_params, client_session_timeout_seconds=60) as server:\n",
    "        mcp_tools = await server.list_tools()\n",
    "        count += len(mcp_tools)\n",
    "print(f\"Tenemos {len(all_params)} servidores MCP, y {count} herramientas\")"
   ]
  },
  {
   "cell_type": "code",
   "execution_count": null,
   "metadata": {},
   "outputs": [],
   "source": []
  },
  {
   "cell_type": "code",
   "execution_count": null,
   "metadata": {},
   "outputs": [],
   "source": []
  }
 ],
 "metadata": {
  "kernelspec": {
   "display_name": ".venv",
   "language": "python",
   "name": "python3"
  },
  "language_info": {
   "codemirror_mode": {
    "name": "ipython",
    "version": 3
   },
   "file_extension": ".py",
   "mimetype": "text/x-python",
   "name": "python",
   "nbconvert_exporter": "python",
   "pygments_lexer": "ipython3",
   "version": "3.12.11"
  }
 },
 "nbformat": 4,
 "nbformat_minor": 2
}
