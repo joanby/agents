{
 "cells": [
  {
   "cell_type": "markdown",
   "metadata": {},
   "source": [
    "### Semana 6, Día 2\n",
    "\n",
    "¡Estamos a punto de crear y usar nuestro propio servidor y cliente MCP!\n",
    "\n",
    "Es bastante sencillo, pero no es supersencillo. Lo emocionante de MCP radica en lo fácil que es compartir y usar otros servidores MCP; crear uno propio requiere algo de trabajo.\n",
    "\n",
    "Revisemos código Python creado principalmente por un equipo de ingeniería muy dedicado:\n",
    "\n",
    "accounts.py"
   ]
  },
  {
   "cell_type": "code",
   "execution_count": 1,
   "metadata": {},
   "outputs": [
    {
     "data": {
      "text/plain": [
       "True"
      ]
     },
     "execution_count": 1,
     "metadata": {},
     "output_type": "execute_result"
    }
   ],
   "source": [
    "from dotenv import load_dotenv\n",
    "from agents import Agent, Runner, trace\n",
    "from agents.mcp import MCPServerStdio\n",
    "from IPython.display import display, Markdown\n",
    "\n",
    "load_dotenv(override=True)"
   ]
  },
  {
   "cell_type": "code",
   "execution_count": 2,
   "metadata": {},
   "outputs": [],
   "source": [
    "from accounts import Account"
   ]
  },
  {
   "cell_type": "code",
   "execution_count": 5,
   "metadata": {},
   "outputs": [
    {
     "data": {
      "text/plain": [
       "Account(name='juan gabriel', balance=10000.0, strategy='', holdings={}, transactions=[], portfolio_value_time_series=[])"
      ]
     },
     "execution_count": 5,
     "metadata": {},
     "output_type": "execute_result"
    }
   ],
   "source": [
    "account = Account.get(\"Juan Gabriel\")\n",
    "account"
   ]
  },
  {
   "cell_type": "code",
   "execution_count": 6,
   "metadata": {},
   "outputs": [
    {
     "data": {
      "text/plain": [
       "'Completado. Últimos detalles:\\n{\"name\": \"juan gabriel\", \"balance\": 9774.55, \"strategy\": \"\", \"holdings\": {\"AMZN\": 3}, \"transactions\": [{\"symbol\": \"AMZN\", \"quantity\": 3, \"price\": 75.15, \"timestamp\": \"2025-07-16 16:47:58\", \"rationale\": \"Porque este sitio web de libros parece prometedor\"}], \"portfolio_value_time_series\": [[\"2025-07-16 16:47:58\", 9849.55]], \"total_portfolio_value\": 9849.55, \"total_profit_loss\": -150.45000000000073}'"
      ]
     },
     "execution_count": 6,
     "metadata": {},
     "output_type": "execute_result"
    }
   ],
   "source": [
    "account.buy_shares(\"AMZN\", 3, \"Porque este sitio web de libros parece prometedor\")"
   ]
  },
  {
   "cell_type": "code",
   "execution_count": 7,
   "metadata": {},
   "outputs": [
    {
     "data": {
      "text/plain": [
       "'{\"name\": \"juan gabriel\", \"balance\": 9774.55, \"strategy\": \"\", \"holdings\": {\"AMZN\": 3}, \"transactions\": [{\"symbol\": \"AMZN\", \"quantity\": 3, \"price\": 75.15, \"timestamp\": \"2025-07-16 16:47:58\", \"rationale\": \"Porque este sitio web de libros parece prometedor\"}], \"portfolio_value_time_series\": [[\"2025-07-16 16:47:58\", 9849.55], [\"2025-07-16 16:48:31\", 9951.55]], \"total_portfolio_value\": 9951.55, \"total_profit_loss\": -48.45000000000073}'"
      ]
     },
     "execution_count": 7,
     "metadata": {},
     "output_type": "execute_result"
    }
   ],
   "source": [
    "account.report()"
   ]
  },
  {
   "cell_type": "code",
   "execution_count": 8,
   "metadata": {},
   "outputs": [
    {
     "data": {
      "text/plain": [
       "[{'symbol': 'AMZN',\n",
       "  'quantity': 3,\n",
       "  'price': 75.15,\n",
       "  'timestamp': '2025-07-16 16:47:58',\n",
       "  'rationale': 'Porque este sitio web de libros parece prometedor'}]"
      ]
     },
     "execution_count": 8,
     "metadata": {},
     "output_type": "execute_result"
    }
   ],
   "source": [
    "account.list_transactions()"
   ]
  },
  {
   "cell_type": "markdown",
   "metadata": {},
   "source": [
    "### Ahora escribimos un servidor MCP y lo usamos directamente"
   ]
  },
  {
   "cell_type": "code",
   "execution_count": 9,
   "metadata": {},
   "outputs": [],
   "source": [
    "# Ahora usemos nuestro servidor de cuentas como servidor MCP\n",
    "\n",
    "params = {\"command\": \"uv\", \"args\": [\"run\", \"accounts_server.py\"]}\n",
    "async with MCPServerStdio(params=params, client_session_timeout_seconds=30) as server:\n",
    "    mcp_tools = await server.list_tools()\n"
   ]
  },
  {
   "cell_type": "code",
   "execution_count": 10,
   "metadata": {},
   "outputs": [
    {
     "data": {
      "text/plain": [
       "[Tool(name='get_balance', description='Obtiene el saldo en efectivo de la cuenta indicada.\\n\\n    Args:\\n        name: El nombre del titular de la cuenta\\n    ', inputSchema={'properties': {'name': {'title': 'Name', 'type': 'string'}}, 'required': ['name'], 'title': 'get_balanceArguments', 'type': 'object'}, annotations=None),\n",
       " Tool(name='get_holdings', description='Obtiene las tenencias de la cuenta indicada.\\n\\n    Args:\\n        name: El nombre del titular de la cuenta\\n    ', inputSchema={'properties': {'name': {'title': 'Name', 'type': 'string'}}, 'required': ['name'], 'title': 'get_holdingsArguments', 'type': 'object'}, annotations=None),\n",
       " Tool(name='buy_shares', description='Compra acciones de una empresa.\\n\\n    Args:\\n        name: El nombre del titular de la cuenta\\n        symbol: El símbolo de la acción\\n        quantity: La cantidad de acciones a comprar\\n        rationale: La razón de la compra y su relación con la estrategia de la cuenta\\n    ', inputSchema={'properties': {'name': {'title': 'Name', 'type': 'string'}, 'symbol': {'title': 'Symbol', 'type': 'string'}, 'quantity': {'title': 'Quantity', 'type': 'integer'}, 'rationale': {'title': 'Rationale', 'type': 'string'}}, 'required': ['name', 'symbol', 'quantity', 'rationale'], 'title': 'buy_sharesArguments', 'type': 'object'}, annotations=None),\n",
       " Tool(name='sell_shares', description='Vende acciones de una empresa.\\n\\n    Args:\\n        name: El nombre del titular de la cuenta\\n        symbol: El símbolo de la acción\\n        quantity: La cantidad de acciones a vender\\n        rationale: La razón de la venta y su relación con la estrategia de la cuenta\\n    ', inputSchema={'properties': {'name': {'title': 'Name', 'type': 'string'}, 'symbol': {'title': 'Symbol', 'type': 'string'}, 'quantity': {'title': 'Quantity', 'type': 'integer'}, 'rationale': {'title': 'Rationale', 'type': 'string'}}, 'required': ['name', 'symbol', 'quantity', 'rationale'], 'title': 'sell_sharesArguments', 'type': 'object'}, annotations=None),\n",
       " Tool(name='change_strategy', description='A tu discreción, si lo deseas, llama a esto para cambiar tu estrategia de inversión futura.\\n\\n    Args:\\n        name: El nombre del titular de la cuenta\\n        strategy: La nueva estrategia para la cuenta\\n    ', inputSchema={'properties': {'name': {'title': 'Name', 'type': 'string'}, 'strategy': {'title': 'Strategy', 'type': 'string'}}, 'required': ['name', 'strategy'], 'title': 'change_strategyArguments', 'type': 'object'}, annotations=None)]"
      ]
     },
     "execution_count": 10,
     "metadata": {},
     "output_type": "execute_result"
    }
   ],
   "source": [
    "mcp_tools"
   ]
  },
  {
   "cell_type": "code",
   "execution_count": 11,
   "metadata": {},
   "outputs": [],
   "source": [
    "instructions = \"Puedes gestionar una cuenta para un cliente y responder preguntas sobre la cuenta.\"\n",
    "request = \"Me llamo Juan Gabriel y mi cuenta está a nombre de Juan Gabriel. ¿Cuál es mi saldo y mis tenencias?\"\n",
    "model = \"gpt-4.1-mini\""
   ]
  },
  {
   "cell_type": "code",
   "execution_count": 12,
   "metadata": {},
   "outputs": [
    {
     "data": {
      "text/markdown": [
       "Juan Gabriel, tu saldo actual en efectivo es de 9,774.55 unidades monetarias. En cuanto a tus tenencias, posees 3 acciones de Amazon (AMZN). ¿Quieres hacer alguna operación o necesitas información adicional?"
      ],
      "text/plain": [
       "<IPython.core.display.Markdown object>"
      ]
     },
     "metadata": {},
     "output_type": "display_data"
    }
   ],
   "source": [
    "\n",
    "async with MCPServerStdio(params=params, client_session_timeout_seconds=30) as mcp_server:\n",
    "    agent = Agent(name=\"account_manager\", instructions=instructions, model=model, mcp_servers=[mcp_server])\n",
    "    with trace(\"account_manager\"):\n",
    "        result = await Runner.run(agent, request)\n",
    "    display(Markdown(result.final_output))\n",
    "    \n"
   ]
  },
  {
   "cell_type": "markdown",
   "metadata": {},
   "source": [
    "### Vamos a construir nuestro propio cliente MCP"
   ]
  },
  {
   "cell_type": "code",
   "execution_count": 13,
   "metadata": {},
   "outputs": [
    {
     "name": "stdout",
     "output_type": "stream",
     "text": [
      "[Tool(name='get_balance', description='Obtiene el saldo en efectivo de la cuenta indicada.\\n\\n    Args:\\n        name: El nombre del titular de la cuenta\\n    ', inputSchema={'properties': {'name': {'title': 'Name', 'type': 'string'}}, 'required': ['name'], 'title': 'get_balanceArguments', 'type': 'object'}, annotations=None), Tool(name='get_holdings', description='Obtiene las tenencias de la cuenta indicada.\\n\\n    Args:\\n        name: El nombre del titular de la cuenta\\n    ', inputSchema={'properties': {'name': {'title': 'Name', 'type': 'string'}}, 'required': ['name'], 'title': 'get_holdingsArguments', 'type': 'object'}, annotations=None), Tool(name='buy_shares', description='Compra acciones de una empresa.\\n\\n    Args:\\n        name: El nombre del titular de la cuenta\\n        symbol: El símbolo de la acción\\n        quantity: La cantidad de acciones a comprar\\n        rationale: La razón de la compra y su relación con la estrategia de la cuenta\\n    ', inputSchema={'properties': {'name': {'title': 'Name', 'type': 'string'}, 'symbol': {'title': 'Symbol', 'type': 'string'}, 'quantity': {'title': 'Quantity', 'type': 'integer'}, 'rationale': {'title': 'Rationale', 'type': 'string'}}, 'required': ['name', 'symbol', 'quantity', 'rationale'], 'title': 'buy_sharesArguments', 'type': 'object'}, annotations=None), Tool(name='sell_shares', description='Vende acciones de una empresa.\\n\\n    Args:\\n        name: El nombre del titular de la cuenta\\n        symbol: El símbolo de la acción\\n        quantity: La cantidad de acciones a vender\\n        rationale: La razón de la venta y su relación con la estrategia de la cuenta\\n    ', inputSchema={'properties': {'name': {'title': 'Name', 'type': 'string'}, 'symbol': {'title': 'Symbol', 'type': 'string'}, 'quantity': {'title': 'Quantity', 'type': 'integer'}, 'rationale': {'title': 'Rationale', 'type': 'string'}}, 'required': ['name', 'symbol', 'quantity', 'rationale'], 'title': 'sell_sharesArguments', 'type': 'object'}, annotations=None), Tool(name='change_strategy', description='A tu discreción, si lo deseas, llama a esto para cambiar tu estrategia de inversión futura.\\n\\n    Args:\\n        name: El nombre del titular de la cuenta\\n        strategy: La nueva estrategia para la cuenta\\n    ', inputSchema={'properties': {'name': {'title': 'Name', 'type': 'string'}, 'strategy': {'title': 'Strategy', 'type': 'string'}}, 'required': ['name', 'strategy'], 'title': 'change_strategyArguments', 'type': 'object'}, annotations=None)]\n",
      "[FunctionTool(name='get_balance', description='Obtiene el saldo en efectivo de la cuenta indicada.\\n\\n    Args:\\n        name: El nombre del titular de la cuenta\\n    ', params_json_schema={'properties': {'name': {'title': 'Name', 'type': 'string'}}, 'required': ['name'], 'title': 'get_balanceArguments', 'type': 'object', 'additionalProperties': False}, on_invoke_tool=<function get_accounts_tools_openai.<locals>.<lambda> at 0x1236a18a0>, strict_json_schema=True), FunctionTool(name='get_holdings', description='Obtiene las tenencias de la cuenta indicada.\\n\\n    Args:\\n        name: El nombre del titular de la cuenta\\n    ', params_json_schema={'properties': {'name': {'title': 'Name', 'type': 'string'}}, 'required': ['name'], 'title': 'get_holdingsArguments', 'type': 'object', 'additionalProperties': False}, on_invoke_tool=<function get_accounts_tools_openai.<locals>.<lambda> at 0x123d08c20>, strict_json_schema=True), FunctionTool(name='buy_shares', description='Compra acciones de una empresa.\\n\\n    Args:\\n        name: El nombre del titular de la cuenta\\n        symbol: El símbolo de la acción\\n        quantity: La cantidad de acciones a comprar\\n        rationale: La razón de la compra y su relación con la estrategia de la cuenta\\n    ', params_json_schema={'properties': {'name': {'title': 'Name', 'type': 'string'}, 'symbol': {'title': 'Symbol', 'type': 'string'}, 'quantity': {'title': 'Quantity', 'type': 'integer'}, 'rationale': {'title': 'Rationale', 'type': 'string'}}, 'required': ['name', 'symbol', 'quantity', 'rationale'], 'title': 'buy_sharesArguments', 'type': 'object', 'additionalProperties': False}, on_invoke_tool=<function get_accounts_tools_openai.<locals>.<lambda> at 0x123d096c0>, strict_json_schema=True), FunctionTool(name='sell_shares', description='Vende acciones de una empresa.\\n\\n    Args:\\n        name: El nombre del titular de la cuenta\\n        symbol: El símbolo de la acción\\n        quantity: La cantidad de acciones a vender\\n        rationale: La razón de la venta y su relación con la estrategia de la cuenta\\n    ', params_json_schema={'properties': {'name': {'title': 'Name', 'type': 'string'}, 'symbol': {'title': 'Symbol', 'type': 'string'}, 'quantity': {'title': 'Quantity', 'type': 'integer'}, 'rationale': {'title': 'Rationale', 'type': 'string'}}, 'required': ['name', 'symbol', 'quantity', 'rationale'], 'title': 'sell_sharesArguments', 'type': 'object', 'additionalProperties': False}, on_invoke_tool=<function get_accounts_tools_openai.<locals>.<lambda> at 0x123d08f40>, strict_json_schema=True), FunctionTool(name='change_strategy', description='A tu discreción, si lo deseas, llama a esto para cambiar tu estrategia de inversión futura.\\n\\n    Args:\\n        name: El nombre del titular de la cuenta\\n        strategy: La nueva estrategia para la cuenta\\n    ', params_json_schema={'properties': {'name': {'title': 'Name', 'type': 'string'}, 'strategy': {'title': 'Strategy', 'type': 'string'}}, 'required': ['name', 'strategy'], 'title': 'change_strategyArguments', 'type': 'object', 'additionalProperties': False}, on_invoke_tool=<function get_accounts_tools_openai.<locals>.<lambda> at 0x123d09620>, strict_json_schema=True)]\n"
     ]
    }
   ],
   "source": [
    "from accounts_client import get_accounts_tools_openai, read_accounts_resource, list_accounts_tools\n",
    "\n",
    "mcp_tools = await list_accounts_tools()\n",
    "print(mcp_tools)\n",
    "openai_tools = await get_accounts_tools_openai()\n",
    "print(openai_tools)"
   ]
  },
  {
   "cell_type": "code",
   "execution_count": 14,
   "metadata": {},
   "outputs": [
    {
     "data": {
      "text/markdown": [
       "El saldo en efectivo de la cuenta a nombre de Juan Gabriel es de 9,774.55 unidades monetarias. ¿Deseas que consulte algo más sobre tu cuenta?"
      ],
      "text/plain": [
       "<IPython.core.display.Markdown object>"
      ]
     },
     "metadata": {},
     "output_type": "display_data"
    }
   ],
   "source": [
    "request = \"Me llamo Juan Gabriel y mi cuenta está a nombre de Juan Gabriel. ¿Cuál es mi saldo?\"\n",
    "\n",
    "with trace(\"account_mcp_client\"):\n",
    "    agent = Agent(name=\"account_manager\", instructions=instructions, model=model, tools=openai_tools)\n",
    "    result = await Runner.run(agent, request)\n",
    "    display(Markdown(result.final_output))"
   ]
  },
  {
   "cell_type": "code",
   "execution_count": null,
   "metadata": {},
   "outputs": [
    {
     "name": "stdout",
     "output_type": "stream",
     "text": [
      "{\"name\": \"juan%20gabriel\", \"balance\": 10000.0, \"strategy\": \"\", \"holdings\": {}, \"transactions\": [], \"portfolio_value_time_series\": [[\"2025-07-16 17:18:57\", 10000.0]], \"total_portfolio_value\": 10000.0, \"total_profit_loss\": 0.0}\n"
     ]
    }
   ],
   "source": [
    "context = await read_accounts_resource(\"Juan Gabriel\")\n",
    "print(context)"
   ]
  },
  {
   "cell_type": "code",
   "execution_count": 16,
   "metadata": {},
   "outputs": [
    {
     "data": {
      "text/plain": [
       "'{\"name\": \"juan gabriel\", \"balance\": 9774.55, \"strategy\": \"\", \"holdings\": {\"AMZN\": 3}, \"transactions\": [{\"symbol\": \"AMZN\", \"quantity\": 3, \"price\": 75.15, \"timestamp\": \"2025-07-16 16:47:58\", \"rationale\": \"Porque este sitio web de libros parece prometedor\"}], \"portfolio_value_time_series\": [[\"2025-07-16 16:47:58\", 9849.55], [\"2025-07-16 16:48:31\", 9951.55], [\"2025-07-16 17:19:31\", 10035.55]], \"total_portfolio_value\": 10035.55, \"total_profit_loss\": 35.54999999999927}'"
      ]
     },
     "execution_count": 16,
     "metadata": {},
     "output_type": "execute_result"
    }
   ],
   "source": [
    "from accounts import Account\n",
    "Account.get(\"Juan Gabriel\").report()"
   ]
  },
  {
   "cell_type": "markdown",
   "metadata": {},
   "source": [
    "<table style=\"margin: 0; text-align: left; width:100%\">\n",
    "    <tr>\n",
    "        <td style=\"width: 150px; height: 150px; vertical-align: middle;\">\n",
    "            <img src=\"../assets/exercise.png\" width=\"150\" height=\"150\" style=\"display: block;\" />\n",
    "        </td>\n",
    "        <td>\n",
    "            <h2 style=\"color:#ff7800;\">Ejercicios</h2>\n",
    "            <span style=\"color:#ff7800;\">¡Crea tu propio servidor MCP! Crea una función simple que devuelva la fecha actual y expónla como herramienta para que un agente pueda indicarte la fecha de hoy.<br/>Ejercicio opcional más complejo: crea un cliente MCP y usa una llamada nativa de OpenAI (sin el SDK de agentes) para usar tu herramienta a través de tu cliente.\n",
    "            </span>\n",
    "        </td>\n",
    "    </tr>\n",
    "</table>"
   ]
  },
  {
   "cell_type": "markdown",
   "metadata": {},
   "source": []
  }
 ],
 "metadata": {
  "kernelspec": {
   "display_name": ".venv",
   "language": "python",
   "name": "python3"
  },
  "language_info": {
   "codemirror_mode": {
    "name": "ipython",
    "version": 3
   },
   "file_extension": ".py",
   "mimetype": "text/x-python",
   "name": "python",
   "nbconvert_exporter": "python",
   "pygments_lexer": "ipython3",
   "version": "3.12.11"
  }
 },
 "nbformat": 4,
 "nbformat_minor": 2
}
