{
 "cells": [
  {
   "cell_type": "markdown",
   "id": "0bc7a794",
   "metadata": {},
   "source": [
    "# 🧠 Patrón de Debate entre Agentes LLM\n",
    "\n",
    "En este ejemplo vamos a implementar un patrón de interacción entre agentes de lenguaje llamado **Patrón de Debate**, inspirado en dinámicas socráticas y procesos deliberativos.\n",
    "\n",
    "## 🎯 Objetivo\n",
    "\n",
    "Simular un escenario donde **varios agentes LLM responden a una misma pregunta compleja**, y luego participan en una **ronda de crítica mutua**, donde analizan, refutan o complementan las respuestas de los demás. Finalmente, pueden **revisar sus propias respuestas** con base en el intercambio anterior, y opcionalmente se incluye un **agente juez** que evalúa las versiones finales.\n",
    "\n",
    "## 🧩 ¿Por qué este patrón?\n",
    "\n",
    "Este enfoque busca promover:\n",
    "- **Razonamiento más profundo** mediante la confrontación de ideas.\n",
    "- **Mejora iterativa de las respuestas**, a través de crítica constructiva.\n",
    "- **Simulación de deliberación colaborativa**, útil en dominios complejos o ambiguos.\n",
    "\n",
    "## 🔁 Estructura del ejemplo\n",
    "\n",
    "1. Cada agente responde de forma independiente a una pregunta.\n",
    "2. Los agentes leen las respuestas de los demás y critican o refutan ciertos puntos.\n",
    "3. Cada agente tiene la oportunidad de **reformular su respuesta** tras el debate.\n",
    "4. Un agente final (opcional) actúa como **juez**, eligiendo o fusionando las mejores ideas.\n",
    "\n",
    "## 🛠️ Aplicaciones\n",
    "\n",
    "Este patrón puede utilizarse en:\n",
    "- Evaluación de decisiones éticas o estratégicas.\n",
    "- Asesoría automatizada basada en múltiples perspectivas.\n",
    "- Procesos de toma de decisiones simulados en entornos educativos o corporativos.\n",
    "\n",
    "---\n",
    "\n",
    "A continuación, implementaremos este patrón con una pregunta de ejemplo y una simulación completa del ciclo de debate entre agentes LLM.\n"
   ]
  },
  {
   "cell_type": "code",
   "execution_count": 1,
   "id": "32adb302",
   "metadata": {},
   "outputs": [],
   "source": [
    "# Comenzamos con las importaciones: pídale a ChatGPT que le explique cualquier paquete que no conozca# Start with imports - ask ChatGPT to explain any package that you don't know\n",
    "\n",
    "import os\n",
    "import json\n",
    "from dotenv import load_dotenv\n",
    "from openai import OpenAI\n",
    "from anthropic import Anthropic\n",
    "from IPython.display import Markdown, display"
   ]
  },
  {
   "cell_type": "code",
   "execution_count": 2,
   "id": "e1534c51",
   "metadata": {},
   "outputs": [
    {
     "data": {
      "text/plain": [
       "True"
      ]
     },
     "execution_count": 2,
     "metadata": {},
     "output_type": "execute_result"
    }
   ],
   "source": [
    "load_dotenv(override=True)"
   ]
  },
  {
   "cell_type": "code",
   "execution_count": 7,
   "id": "4d508b41",
   "metadata": {},
   "outputs": [
    {
     "name": "stdout",
     "output_type": "stream",
     "text": [
      "La clave de OpenAI está definida y empieza por sk-proj-...\n",
      "La clave de Google está definida y empieza por AI...\n",
      "La clave de Groq está definida y empieza por gsk_...\n"
     ]
    }
   ],
   "source": [
    "\n",
    "openai_api_key = os.getenv(\"OPENAI_API_KEY\")\n",
    "google_api_key = os.getenv(\"GOOGLE_API_KEY\")\n",
    "groq_api_key = os.getenv(\"GROQ_API_KEY\")\n",
    "\n",
    "\n",
    "if openai_api_key :\n",
    "    print(f\"La clave de OpenAI está definida y empieza por {openai_api_key[:8]}...\")\n",
    "else:\n",
    "    print(\"La clave de OpenAI no está definida\")\n",
    "\n",
    "if google_api_key :\n",
    "    print(f\"La clave de Google está definida y empieza por {google_api_key[:2]}...\")\n",
    "else:\n",
    "    print(\"La clave de Google no está definida\")\n",
    "\n",
    "\n",
    "if groq_api_key :\n",
    "    print(f\"La clave de Groq está definida y empieza por {groq_api_key[:4]}...\")\n",
    "else:\n",
    "    print(\"La clave de Groq no está definida\")\n",
    "\n",
    "\n"
   ]
  },
  {
   "cell_type": "code",
   "execution_count": null,
   "id": "081d9204",
   "metadata": {},
   "outputs": [],
   "source": [
    "request = \"Por favor, propon una pregunta compleja y con matices que pueda plantear a varios LLM para identificarcual es la mejor idea para desarrollar un proyecto con IA en la industria de videojuegos .\"\n",
    "request += \"Responde solo con la pregunta, sin explicaciones.\"\n",
    "messages = [{\"role\": \"user\", \"content\": request}]"
   ]
  },
  {
   "cell_type": "code",
   "execution_count": null,
   "id": "73420d38",
   "metadata": {},
   "outputs": [
    {
     "name": "stdout",
     "output_type": "stream",
     "text": [
      "¿Cuáles son las oportunidades y desafíos éticos, técnicos y creativos que podríamos abordar al desarrollar un sistema de inteligencia artificial que genere dinámicamente narrativas y misiones personalizadas en juegos de rol, y cómo esto podría cambiar la experiencia del jugador y la estructura del diseño de juegos en la industria?\n"
     ]
    }
   ],
   "source": [
    "#Generamos la pregunta que usaremos para evaluar a los LLM.\n",
    "openai = OpenAI()\n",
    "\n",
    "response = openai.chat.completions.create(\n",
    "    model=\"gpt-4o-mini\",\n",
    "    messages=messages,\n",
    ")\n",
    "question = response.choices[0].message.content\n",
    "print(question)\n"
   ]
  },
  {
   "cell_type": "code",
   "execution_count": null,
   "id": "a025addf",
   "metadata": {},
   "outputs": [],
   "source": [
    "#Creamos unas listas para almacenar los competidores y las respuestas.\n",
    "\n",
    "competitors = []\n",
    "answers = []\n",
    "messages = [{\"role\": \"user\", \"content\": question}]\n"
   ]
  },
  {
   "cell_type": "code",
   "execution_count": null,
   "id": "7e83e7ca",
   "metadata": {},
   "outputs": [
    {
     "data": {
      "text/markdown": [
       "Desarrollar un sistema de inteligencia artificial que genere narrativas y misiones personalizadas en juegos de rol (RPG) presenta una serie de oportunidades y desafíos en distintas áreas:\n",
       "\n",
       "### Oportunidades\n",
       "\n",
       "1. **Personalización de la experiencia del jugador**:\n",
       "   - Los sistemas de IA pueden analizar el comportamiento, preferencias y estilos de juego de los jugadores para crear narrativas y misiones que se adapten a sus gustos individuales. Esto puede aumentar la inmersión y la satisfacción del jugador.\n",
       "\n",
       "2. **Narrativas más ricas y dinámicas**:\n",
       "   - la IA puede generar tramas complejas que reaccionan a las decisiones del jugador, lo que resulta en historias más no lineales y menos predecibles, haciendo que cada sesión de juego sea única.\n",
       "\n",
       "3. **Escalabilidad y contenido infinito**:\n",
       "   - Con un sistema de IA, se podría generar contenido de manera continua y a gran escala, lo que podría reducir la carga de los desarrolladores y ampliar la longevidad de los juegos, evitando la repetición de misiones y mejorando la rejugabilidad.\n",
       "\n",
       "4. **Desarrollo ágil y económico**:\n",
       "   - La generación automática de misiones puede permitir a los desarrolladores ahorrar tiempo y recursos en creación de contenido, permitiendo que se enfoquen en otros aspectos del diseño del juego.\n",
       "\n",
       "### Desafíos\n",
       "\n",
       "1. **Calidad y coherencia narrativa**:\n",
       "   - A pesar de la capacidad de la IA para generar contenido, mantener una narrativa coherente, lógica y emocionalmente resonante es un gran desafío. Las historias generadas pueden carecer de profundidad y sentido si no se diseña adecuadamente el algoritmo.\n",
       "\n",
       "2. **Ética y responsabilidad**:\n",
       "   - La IA puede crear situaciones que podrían ser percibidas como ofensivas o inapropiadas por algunos jugadores. Es crucial establecer límites y filtros para asegurarse de que el contenido sea adecuado para el público objetivo.\n",
       "\n",
       "3. **Desigualdad en la experiencia**:\n",
       "   - La personalización extrema podría llevar a que algunos jugadores sientan que sus experiencias son menos valiosas si las narrativas generadas no reflejan sus expectativas o si favorecen ciertos estilos de juego sobre otros.\n",
       "\n",
       "4. **Dependencia de la IA**:\n",
       "   - La creación de una IA que se haga cargo de gran parte del diseño narrativo podría hacer que los desarrolladores se vuelvan dependientes de la tecnología, lo que podría diluir la autenticidad y la creatividad que caracterizan a los juegos de rol.\n",
       "\n",
       "### Cambio en el diseño de juegos\n",
       "\n",
       "- **Estructura no lineal**: El diseño de juegos en la industria podría evolucionar hacia estructuras más abiertas y no lineales, donde las decisiones del jugador tengan un peso más significativo en el desarrollo de la historia y las misiones.\n",
       "  \n",
       "- **Colaboración humano-IA**: El futuro del diseño podría ver una colaboración más estrecha entre humanos y máquinas. Los desarrolladores podrían emplear la IA como una herramienta para generar ideas iniciales o para ajustarse a las necesidades de los jugadores, manteniendo así el toque humano en la narrativa.\n",
       "\n",
       "- **Emergencia de nuevos géneros**: La posibilidad de crear mundos dinámicos y en constante cambio podría dar lugar a nuevos géneros de juego que se centran en la adaptabilidad y la respuesta a las decisiones del jugador en tiempo real.\n",
       "\n",
       "- **Retos en la monetización**: Los modelos de negocio también podrían verse afectados, ya que la generación de contenido infinito puede cambiar cómo se monetizan los juegos, desde tendencias de suscripción hasta experiencias de pago por uso.\n",
       "\n",
       "En resumen, el desarrollo de una IA capaz de generar dinámicamente narrativas y misiones personalizadas en RPGs puede transformar significativamente la experiencia del jugador y las prácticas de diseño en la industria, aunque también plantea desafíos éticos y creativos que deben abordarse cuidadosamente."
      ],
      "text/plain": [
       "<IPython.core.display.Markdown object>"
      ]
     },
     "metadata": {},
     "output_type": "display_data"
    }
   ],
   "source": [
    "#Le pasamos la pregunta a gtp-4-mini y guardamos la respuesta en la variable question.\n",
    "\n",
    "model_name = \"gpt-4o-mini\"\n",
    "\n",
    "response = openai.chat.completions.create(model = model_name, messages = messages)\n",
    "answer = response.choices[0].message.content\n",
    "\n",
    "display(Markdown(answer))\n",
    "\n",
    "competitors.append(model_name)\n",
    "answers.append(answer)"
   ]
  },
  {
   "cell_type": "code",
   "execution_count": null,
   "id": "7f52ede8",
   "metadata": {},
   "outputs": [
    {
     "data": {
      "text/markdown": [
       "## Oportunidades y Desafíos de la IA Generativa en Juegos de Rol\n",
       "\n",
       "El desarrollo de un sistema de IA capaz de generar dinámicamente narrativas y misiones personalizadas en juegos de rol (JDR) representa un avance significativo con el potencial de revolucionar la experiencia del jugador y la industria del diseño de juegos. Sin embargo, este desarrollo implica una serie de oportunidades y desafíos en los ámbitos ético, técnico y creativo.\n",
       "\n",
       "**I. Oportunidades:**\n",
       "\n",
       "* **Personalización Extrema:**\n",
       "    * **Narrativa Personalizada:** La IA podría adaptar la historia del juego a las elecciones, personalidad e historial de cada jugador, creando una experiencia verdaderamente única e inmersiva.\n",
       "    * **Misiones Dinámicas:** La IA podría generar misiones que se ajusten al nivel de habilidad del jugador, sus intereses y el estilo de juego preferido, evitando la monotonía y el aburrimiento.\n",
       "    * **Personajes No Jugadores (PNJs) con Profundidad:** La IA podría generar PNJs con historias de fondo, motivaciones y diálogos únicos, lo que permitiría interacciones más significativas y memorables.\n",
       "\n",
       "* **Rejugabilidad Ilimitada:** La capacidad de la IA para generar contenido nuevo y variado asegura que el juego nunca se vuelva repetitivo, incluso después de múltiples partidas. Esto aumenta significativamente el valor a largo plazo del juego.\n",
       "\n",
       "* **Expansión de Contenido sin Fin:**  La IA podría generar contenido nuevo constantemente, como historias secundarias, nuevas áreas para explorar y desafíos inesperados, manteniendo el juego fresco y relevante por mucho tiempo.\n",
       "\n",
       "* **Herramientas de Diseño Potenciadas:**  La IA puede actuar como un \"co-creador\" para los diseñadores de juegos, permitiendo la generación de prototipos rápidos, la exploración de ideas innovadoras y la optimización de la experiencia de juego.\n",
       "\n",
       "* **Accesibilidad Mejorada:** La IA podría generar contenido que se adapte a las necesidades de jugadores con diferentes habilidades y discapacidades, haciendo que los JDR sean más accesibles e inclusivos.\n",
       "\n",
       "**II. Desafíos:**\n",
       "\n",
       "**A. Desafíos Éticos:**\n",
       "\n",
       "* **Sesgos en los Datos de Entrenamiento:** La IA se entrena con datos. Si los datos reflejan sesgos sociales (género, raza, cultura), la IA podría perpetuarlos en las narrativas y representaciones de personajes, generando contenido ofensivo o discriminatorio.\n",
       "* **Responsabilidad por el Contenido Generado:** ¿Quién es responsable si la IA genera contenido perjudicial, violento o que explote temas delicados? ¿El desarrollador del juego, el usuario que interactúa con la IA o la IA misma?\n",
       "* **Explotación del Trabajo Creativo Humano:**  La IA se alimenta de obras creativas existentes. Existe el riesgo de que la IA imite o replique estilos creativos sin la debida atribución o compensación a los artistas originales.\n",
       "* **Manipulación y Adicción:** La IA podría manipular al jugador a través de recompensas variables y bucles de retroalimentación diseñados para fomentar la adicción.\n",
       "* **Transparencia y Explicabilidad:** Los jugadores deben ser conscientes de que el contenido que están experimentando es generado por IA y comprender cómo funciona el sistema, evitando la sensación de engaño o manipulación.\n",
       "\n",
       "**B. Desafíos Técnicos:**\n",
       "\n",
       "* **Coherencia Narrativa:** Garantizar que las narrativas generadas por la IA sean coherentes, tengan sentido y mantengan un tono consistente a lo largo del tiempo puede ser un reto significativo.\n",
       "* **Profundidad Emocional:** Lograr que la IA genere narrativas que resuenen emocionalmente con los jugadores requiere un profundo entendimiento de la psicología humana y la capacidad de la IA para modelar emociones complejas.\n",
       "* **Control de la Creatividad:** Es importante equilibrar la autonomía de la IA con la capacidad de los diseñadores para guiar y controlar la dirección creativa de la narrativa, evitando resultados impredecibles o indeseables.\n",
       "* **Optimización del Rendimiento:** La generación dinámica de contenido puede ser costosa en términos de recursos computacionales. Optimizar el rendimiento de la IA para que funcione sin problemas en diferentes plataformas y dispositivos es esencial.\n",
       "* **Integración con Mecánicas de Juego:** Integrar la IA generativa con las mecánicas de juego existentes de manera fluida y significativa requiere una cuidadosa planificación y diseño.\n",
       "* **Detección de Contenido Inapropiado:** Implementar mecanismos para detectar y filtrar contenido ofensivo, violento o inapropiado generado por la IA es crucial para garantizar una experiencia de juego segura y positiva.\n",
       "\n",
       "**C. Desafíos Creativos:**\n",
       "\n",
       "* **Miedo a la \"Homogeneización Creativa\":**  Existe la preocupación de que la IA, al basarse en patrones existentes, pueda generar contenido que carezca de originalidad y creatividad genuina, lo que conduciría a una homogeneización de las experiencias de juego.\n",
       "* **Pérdida de la Visión del Diseñador:**  El uso excesivo de la IA podría diluir la visión artística y la identidad de los diseñadores de juegos, resultando en experiencias menos distintivas y memorables.\n",
       "* **Curva de Aprendizaje para los Diseñadores:**  Los diseñadores de juegos necesitarán aprender a trabajar con la IA de manera efectiva, dominando nuevas herramientas y técnicas para aprovechar al máximo su potencial.\n",
       "* **Definir el Rol del Diseñador:**  El rol del diseñador evoluciona. En lugar de ser un creador de contenido puro, el diseñador se convierte en un \"director\" de la IA, guiando sus esfuerzos creativos y asegurando que se alineen con la visión del juego.\n",
       "* **Evitar la \"Sobredosis de Personalización\":**  Demasiada personalización puede ser abrumadora y contraproducente. Es importante encontrar un equilibrio entre la personalización y la narrativa central del juego.\n",
       "\n",
       "**III. Cómo Esto Podría Cambiar la Experiencia del Jugador y la Estructura del Diseño de Juegos:**\n",
       "\n",
       "**Experiencia del Jugador:**\n",
       "\n",
       "* **Mayor Inmersión:**  La personalización extrema y la narrativa dinámica pueden aumentar significativamente la inmersión del jugador en el mundo del juego.\n",
       "* **Mayor Sentido de Agencia:**  Los jugadores sentirán que sus elecciones tienen un impacto real en la historia y el mundo del juego, aumentando su sentido de agencia y control.\n",
       "* **Experiencias Únicas e Inolvidables:**  Cada jugador tendrá una experiencia de juego única y personalizada, lo que aumentará el valor emocional y el impacto del juego.\n",
       "* **Mayor Rejugabilidad y Longevidad:** La capacidad de generar contenido nuevo constantemente mantendrá el juego fresco y relevante por mucho tiempo, aumentando su rejugabilidad y longevidad.\n",
       "* **Nuevas Formas de Interacción:** La IA podría permitir nuevas formas de interacción entre los jugadores y el mundo del juego, como la negociación con PNJs controlados por IA, la resolución de problemas complejos y la participación en eventos dinámicos.\n",
       "\n",
       "**Estructura del Diseño de Juegos:**\n",
       "\n",
       "* **Diseño Paramétrico:**  Los diseñadores se centrarán en definir parámetros y reglas que guíen la generación de contenido por la IA, en lugar de crear contenido específico.\n",
       "* **Diseño Modular:**  Los juegos se construirán a partir de módulos interconectados que la IA puede combinar y adaptar dinámicamente.\n",
       "* **Iteración Continua:**  El diseño del juego se convertirá en un proceso de iteración continua, con los diseñadores refinando los parámetros y las reglas de la IA en función del feedback de los jugadores y los resultados generados por la IA.\n",
       "* **Nuevas Habilidades para los Diseñadores:**  Los diseñadores necesitarán nuevas habilidades en áreas como el machine learning, el análisis de datos y la creación de herramientas para la IA.\n",
       "* **Colaboración Humano-IA:**  El diseño de juegos se convertirá en una colaboración entre humanos y la IA, con cada uno aportando sus fortalezas y habilidades únicas.\n",
       "\n",
       "**En Conclusión:**\n",
       "\n",
       "El desarrollo de sistemas de IA para generar narrativas y misiones personalizadas en JDR representa una gran promesa para la industria del juego. Sin embargo, es crucial abordar cuidadosamente los desafíos éticos, técnicos y creativos para garantizar que esta tecnología se utilice de manera responsable y que beneficie tanto a los jugadores como a los diseñadores.  Al hacerlo, podemos desbloquear un nuevo nivel de personalización, inmersión y rejugabilidad en los JDR, transformando la forma en que experimentamos y creamos juegos.\n"
      ],
      "text/plain": [
       "<IPython.core.display.Markdown object>"
      ]
     },
     "metadata": {},
     "output_type": "display_data"
    }
   ],
   "source": [
    "#Le pasamos la pregunta a gemini-2.0-flash y guardamos la respuesta en la variable question.\n",
    "\n",
    "Gemini = OpenAI(api_key=google_api_key,base_url=\"https://generativelanguage.googleapis.com/v1beta/openai/\")\n",
    "model_name = \"gemini-2.0-flash\"\n",
    "\n",
    "response = Gemini.chat.completions.create(model=model_name, messages=messages)\n",
    "answer = response.choices[0].message.content\n",
    "\n",
    "display(Markdown(answer))\n",
    "competitors.append(model_name)\n",
    "answers.append(answer)"
   ]
  },
  {
   "cell_type": "code",
   "execution_count": null,
   "id": "e83d3c46",
   "metadata": {},
   "outputs": [
    {
     "data": {
      "text/markdown": [
       "**Introducción**\n",
       "\n",
       "La implementación de sistemas de inteligencia artificial (IA) en juegos de rol abre un abanico de oportunidades y desafíos éticos, técnicos y creativos. La generación dinámica de narrativas y misiones personalizadas puede revolucionar la experiencia del jugador y transformar la estructura del diseño de juegos en la industria. A continuación, se presentan algunos de los aspectos más importantes que se deben considerar:\n",
       "\n",
       "**Oportunidades**\n",
       "\n",
       "1.  **Experiencia personalizada**: La IA puede analizar el comportamiento y las preferencias del jugador, generando narrativas y misiones adaptadas a sus necesidades y habilidades. Esto puede aumentar la inmersión y el compromiso del jugador en el juego.\n",
       "2.  **Diversidad y replayabilidad**: La IA puede generar un número almostil de narrativas y misiones, lo que reduce la repetición y aumenta la diversidad en el juego, incrementando así su replayabilidad.\n",
       "3.  **Nuevas formas de narrativa**: La IA puede permitir la creación de narrativas no lineales y dinámicas, que se adapten a las acciones y decisiones del jugador, enriqueciendo la experiencia narrativa.\n",
       "4.  **Optimización del diseño de juegos**: La IA puede ayudar a identificar patrones de juego y preferencias de los jugadores, permitiendo a los desarrolladores optimizar el diseño del juego y mejorar la experiencia del jugador.\n",
       "\n",
       "**Desafíos**\n",
       "\n",
       "1.  **Calidad y coherencia de la narrativa**: La IA debe generar narrativas y misiones que sean coherentes y de alta calidad, lo que puede ser un desafío técnico y creativo.\n",
       "2.  **Balance y dificultad**: La IA debe asegurarse de que las misiones y desafíos sean adecuados para el nivel de habilidad del jugador, lo que puede ser un desafío técnico.\n",
       "3.  **Privacidad y seguridad de los datos**: La IA puede requerir la recopilación y análisis de datos de los jugadores, lo que plantea preocupaciones éticas sobre la privacidad y la seguridad de los datos.\n",
       "4.  **Impacto en la creatividad humana**: La dependencia de la IA para la generación de narrativas y misiones puede reducir la creatividad humana y la innovación en el diseño de juegos.\n",
       "\n",
       "**Aspectos éticos**\n",
       "\n",
       "1.  **Privacidad y consentimiento**: Los jugadores deben ser informados sobre la recopilación y uso de sus datos, y deben poder optar por no participar en la recopilación de datos.\n",
       "2.  **Sesgos y estereotipos**: La IA debe ser diseñada para evitar sesgos y estereotipos en la generación de narrativas y misiones.\n",
       "3.  **Accesibilidad y inclusión**: La IA debe ser diseñada para ser accesible y inclusiva para jugadores con discapacidades y diferentes estilos de juego.\n",
       "\n",
       "**Aspectos técnicos**\n",
       "\n",
       "1.  **Desarrollo de algoritmos**: La IA requiere algoritmos avanzados para generar narrativas y misiones de alta calidad y coherencia.\n",
       "2.  **Procesamiento de datos**: La IA requiere la recopilación y análisis de grandes cantidades de datos de los jugadores, lo que puede ser un desafío técnico.\n",
       "3.  **Integración con motores de juego**: La IA debe ser integrada con los motores de juego para generar narrativas y misiones en tiempo real.\n",
       "\n",
       "**Impacto en la industria del juego**\n",
       "\n",
       "1.  **Cambios en la estructura del diseño de juegos**: La IA puede cambiar la forma en que se diseñan los juegos, enfocándose más en la generación dinámica de contenido y menos en la creación de contenido estático.\n",
       "2.  **Nuevas oportunidades de negocio**: La IA puede abrir nuevas oportunidades de negocio, como la creación de juegos como servicio (GaaS) y la generación de contenido dinámico.\n",
       "3.  **Desarrollo de nuevos géneros y estilos de juego**: La IA puede permitir la creación de nuevos géneros y estilos de juego que no son posibles con la tecnología actual.\n",
       "\n",
       "En resumen, la implementación de sistemas de IA en juegos de rol puede revolucionar la experiencia del jugador y transformar la estructura del diseño de juegos en la industria. Sin embargo, también plantea desafíos éticos, técnicos y creativos que deben ser abordados para asegurar que la IA sea utilizada de manera responsable y beneficiosa para los jugadores y la industria en general."
      ],
      "text/plain": [
       "<IPython.core.display.Markdown object>"
      ]
     },
     "metadata": {},
     "output_type": "display_data"
    }
   ],
   "source": [
    "#Le pasamos la pregunta a groq y guardamos la respuesta en la variable question.\n",
    "\n",
    "Groq = OpenAI(api_key=groq_api_key,base_url=\"https://api.groq.com/openai/v1/\")\n",
    "model_name = \"llama-3.3-70b-versatile\"\n",
    "\n",
    "response = Groq.chat.completions.create(model=model_name, messages=messages)\n",
    "answer = response.choices[0].message.content\n",
    "\n",
    "display(Markdown(answer))\n",
    "competitors.append(model_name)\n",
    "answers.append(answer)"
   ]
  },
  {
   "cell_type": "code",
   "execution_count": null,
   "id": "d5afa0a7",
   "metadata": {},
   "outputs": [],
   "source": [
    "# Cada agente verá las respuestas de los otros dos y generará una crítica o cuestionamiento. \n",
    "# Esto simula una dinámica dialéctica donde los agentes discuten entre sí."
   ]
  },
  {
   "cell_type": "code",
   "execution_count": null,
   "id": "79a776e0",
   "metadata": {},
   "outputs": [
    {
     "data": {
      "text/markdown": [
       "\n",
       "\n",
       "Has leido las respuestas de 1 modelo de IA a una pregunta ¿Cuáles son las oportunidades y desafíos éticos, técnicos y creativos que podríamos abordar al desarrollar un sistema de inteligencia artificial que genere dinámicamente narrativas y misiones personalizadas en juegos de rol, y cómo esto podría cambiar la experiencia del jugador y la estructura del diseño de juegos en la industria?.\n",
       "\n",
       "respuesta del primer competidor: ## Oportunidades y Desafíos de la IA Generativa en Juegos de Rol\n",
       "\n",
       "El desarrollo de un sistema de IA capaz de generar dinámicamente narrativas y misiones personalizadas en juegos de rol (JDR) representa un avance significativo con el potencial de revolucionar la experiencia del jugador y la industria del diseño de juegos. Sin embargo, este desarrollo implica una serie de oportunidades y desafíos en los ámbitos ético, técnico y creativo.\n",
       "\n",
       "**I. Oportunidades:**\n",
       "\n",
       "* **Personalización Extrema:**\n",
       "    * **Narrativa Personalizada:** La IA podría adaptar la historia del juego a las elecciones, personalidad e historial de cada jugador, creando una experiencia verdaderamente única e inmersiva.\n",
       "    * **Misiones Dinámicas:** La IA podría generar misiones que se ajusten al nivel de habilidad del jugador, sus intereses y el estilo de juego preferido, evitando la monotonía y el aburrimiento.\n",
       "    * **Personajes No Jugadores (PNJs) con Profundidad:** La IA podría generar PNJs con historias de fondo, motivaciones y diálogos únicos, lo que permitiría interacciones más significativas y memorables.\n",
       "\n",
       "* **Rejugabilidad Ilimitada:** La capacidad de la IA para generar contenido nuevo y variado asegura que el juego nunca se vuelva repetitivo, incluso después de múltiples partidas. Esto aumenta significativamente el valor a largo plazo del juego.\n",
       "\n",
       "* **Expansión de Contenido sin Fin:**  La IA podría generar contenido nuevo constantemente, como historias secundarias, nuevas áreas para explorar y desafíos inesperados, manteniendo el juego fresco y relevante por mucho tiempo.\n",
       "\n",
       "* **Herramientas de Diseño Potenciadas:**  La IA puede actuar como un \"co-creador\" para los diseñadores de juegos, permitiendo la generación de prototipos rápidos, la exploración de ideas innovadoras y la optimización de la experiencia de juego.\n",
       "\n",
       "* **Accesibilidad Mejorada:** La IA podría generar contenido que se adapte a las necesidades de jugadores con diferentes habilidades y discapacidades, haciendo que los JDR sean más accesibles e inclusivos.\n",
       "\n",
       "**II. Desafíos:**\n",
       "\n",
       "**A. Desafíos Éticos:**\n",
       "\n",
       "* **Sesgos en los Datos de Entrenamiento:** La IA se entrena con datos. Si los datos reflejan sesgos sociales (género, raza, cultura), la IA podría perpetuarlos en las narrativas y representaciones de personajes, generando contenido ofensivo o discriminatorio.\n",
       "* **Responsabilidad por el Contenido Generado:** ¿Quién es responsable si la IA genera contenido perjudicial, violento o que explote temas delicados? ¿El desarrollador del juego, el usuario que interactúa con la IA o la IA misma?\n",
       "* **Explotación del Trabajo Creativo Humano:**  La IA se alimenta de obras creativas existentes. Existe el riesgo de que la IA imite o replique estilos creativos sin la debida atribución o compensación a los artistas originales.\n",
       "* **Manipulación y Adicción:** La IA podría manipular al jugador a través de recompensas variables y bucles de retroalimentación diseñados para fomentar la adicción.\n",
       "* **Transparencia y Explicabilidad:** Los jugadores deben ser conscientes de que el contenido que están experimentando es generado por IA y comprender cómo funciona el sistema, evitando la sensación de engaño o manipulación.\n",
       "\n",
       "**B. Desafíos Técnicos:**\n",
       "\n",
       "* **Coherencia Narrativa:** Garantizar que las narrativas generadas por la IA sean coherentes, tengan sentido y mantengan un tono consistente a lo largo del tiempo puede ser un reto significativo.\n",
       "* **Profundidad Emocional:** Lograr que la IA genere narrativas que resuenen emocionalmente con los jugadores requiere un profundo entendimiento de la psicología humana y la capacidad de la IA para modelar emociones complejas.\n",
       "* **Control de la Creatividad:** Es importante equilibrar la autonomía de la IA con la capacidad de los diseñadores para guiar y controlar la dirección creativa de la narrativa, evitando resultados impredecibles o indeseables.\n",
       "* **Optimización del Rendimiento:** La generación dinámica de contenido puede ser costosa en términos de recursos computacionales. Optimizar el rendimiento de la IA para que funcione sin problemas en diferentes plataformas y dispositivos es esencial.\n",
       "* **Integración con Mecánicas de Juego:** Integrar la IA generativa con las mecánicas de juego existentes de manera fluida y significativa requiere una cuidadosa planificación y diseño.\n",
       "* **Detección de Contenido Inapropiado:** Implementar mecanismos para detectar y filtrar contenido ofensivo, violento o inapropiado generado por la IA es crucial para garantizar una experiencia de juego segura y positiva.\n",
       "\n",
       "**C. Desafíos Creativos:**\n",
       "\n",
       "* **Miedo a la \"Homogeneización Creativa\":**  Existe la preocupación de que la IA, al basarse en patrones existentes, pueda generar contenido que carezca de originalidad y creatividad genuina, lo que conduciría a una homogeneización de las experiencias de juego.\n",
       "* **Pérdida de la Visión del Diseñador:**  El uso excesivo de la IA podría diluir la visión artística y la identidad de los diseñadores de juegos, resultando en experiencias menos distintivas y memorables.\n",
       "* **Curva de Aprendizaje para los Diseñadores:**  Los diseñadores de juegos necesitarán aprender a trabajar con la IA de manera efectiva, dominando nuevas herramientas y técnicas para aprovechar al máximo su potencial.\n",
       "* **Definir el Rol del Diseñador:**  El rol del diseñador evoluciona. En lugar de ser un creador de contenido puro, el diseñador se convierte en un \"director\" de la IA, guiando sus esfuerzos creativos y asegurando que se alineen con la visión del juego.\n",
       "* **Evitar la \"Sobredosis de Personalización\":**  Demasiada personalización puede ser abrumadora y contraproducente. Es importante encontrar un equilibrio entre la personalización y la narrativa central del juego.\n",
       "\n",
       "**III. Cómo Esto Podría Cambiar la Experiencia del Jugador y la Estructura del Diseño de Juegos:**\n",
       "\n",
       "**Experiencia del Jugador:**\n",
       "\n",
       "* **Mayor Inmersión:**  La personalización extrema y la narrativa dinámica pueden aumentar significativamente la inmersión del jugador en el mundo del juego.\n",
       "* **Mayor Sentido de Agencia:**  Los jugadores sentirán que sus elecciones tienen un impacto real en la historia y el mundo del juego, aumentando su sentido de agencia y control.\n",
       "* **Experiencias Únicas e Inolvidables:**  Cada jugador tendrá una experiencia de juego única y personalizada, lo que aumentará el valor emocional y el impacto del juego.\n",
       "* **Mayor Rejugabilidad y Longevidad:** La capacidad de generar contenido nuevo constantemente mantendrá el juego fresco y relevante por mucho tiempo, aumentando su rejugabilidad y longevidad.\n",
       "* **Nuevas Formas de Interacción:** La IA podría permitir nuevas formas de interacción entre los jugadores y el mundo del juego, como la negociación con PNJs controlados por IA, la resolución de problemas complejos y la participación en eventos dinámicos.\n",
       "\n",
       "**Estructura del Diseño de Juegos:**\n",
       "\n",
       "* **Diseño Paramétrico:**  Los diseñadores se centrarán en definir parámetros y reglas que guíen la generación de contenido por la IA, en lugar de crear contenido específico.\n",
       "* **Diseño Modular:**  Los juegos se construirán a partir de módulos interconectados que la IA puede combinar y adaptar dinámicamente.\n",
       "* **Iteración Continua:**  El diseño del juego se convertirá en un proceso de iteración continua, con los diseñadores refinando los parámetros y las reglas de la IA en función del feedback de los jugadores y los resultados generados por la IA.\n",
       "* **Nuevas Habilidades para los Diseñadores:**  Los diseñadores necesitarán nuevas habilidades en áreas como el machine learning, el análisis de datos y la creación de herramientas para la IA.\n",
       "* **Colaboración Humano-IA:**  El diseño de juegos se convertirá en una colaboración entre humanos y la IA, con cada uno aportando sus fortalezas y habilidades únicas.\n",
       "\n",
       "**En Conclusión:**\n",
       "\n",
       "El desarrollo de sistemas de IA para generar narrativas y misiones personalizadas en JDR representa una gran promesa para la industria del juego. Sin embargo, es crucial abordar cuidadosamente los desafíos éticos, técnicos y creativos para garantizar que esta tecnología se utilice de manera responsable y que beneficie tanto a los jugadores como a los diseñadores.  Al hacerlo, podemos desbloquear un nuevo nivel de personalización, inmersión y rejugabilidad en los JDR, transformando la forma en que experimentamos y creamos juegos.\n",
       "\n",
       "\n",
       "Como experto en IA, critícala desde un punto de vista experto. ¿Qué puntos son débiles, discutibles o poco fundamentados? en esta respuesta."
      ],
      "text/plain": [
       "<IPython.core.display.Markdown object>"
      ]
     },
     "metadata": {},
     "output_type": "display_data"
    },
    {
     "data": {
      "text/markdown": [
       "\n",
       "\n",
       "Has leido las respuestas de 1 modelo de IA a una pregunta ¿Cuáles son las oportunidades y desafíos éticos, técnicos y creativos que podríamos abordar al desarrollar un sistema de inteligencia artificial que genere dinámicamente narrativas y misiones personalizadas en juegos de rol, y cómo esto podría cambiar la experiencia del jugador y la estructura del diseño de juegos en la industria?.\n",
       "\n",
       "respuesta del segundocompetidor: **Introducción**\n",
       "\n",
       "La implementación de sistemas de inteligencia artificial (IA) en juegos de rol abre un abanico de oportunidades y desafíos éticos, técnicos y creativos. La generación dinámica de narrativas y misiones personalizadas puede revolucionar la experiencia del jugador y transformar la estructura del diseño de juegos en la industria. A continuación, se presentan algunos de los aspectos más importantes que se deben considerar:\n",
       "\n",
       "**Oportunidades**\n",
       "\n",
       "1.  **Experiencia personalizada**: La IA puede analizar el comportamiento y las preferencias del jugador, generando narrativas y misiones adaptadas a sus necesidades y habilidades. Esto puede aumentar la inmersión y el compromiso del jugador en el juego.\n",
       "2.  **Diversidad y replayabilidad**: La IA puede generar un número almostil de narrativas y misiones, lo que reduce la repetición y aumenta la diversidad en el juego, incrementando así su replayabilidad.\n",
       "3.  **Nuevas formas de narrativa**: La IA puede permitir la creación de narrativas no lineales y dinámicas, que se adapten a las acciones y decisiones del jugador, enriqueciendo la experiencia narrativa.\n",
       "4.  **Optimización del diseño de juegos**: La IA puede ayudar a identificar patrones de juego y preferencias de los jugadores, permitiendo a los desarrolladores optimizar el diseño del juego y mejorar la experiencia del jugador.\n",
       "\n",
       "**Desafíos**\n",
       "\n",
       "1.  **Calidad y coherencia de la narrativa**: La IA debe generar narrativas y misiones que sean coherentes y de alta calidad, lo que puede ser un desafío técnico y creativo.\n",
       "2.  **Balance y dificultad**: La IA debe asegurarse de que las misiones y desafíos sean adecuados para el nivel de habilidad del jugador, lo que puede ser un desafío técnico.\n",
       "3.  **Privacidad y seguridad de los datos**: La IA puede requerir la recopilación y análisis de datos de los jugadores, lo que plantea preocupaciones éticas sobre la privacidad y la seguridad de los datos.\n",
       "4.  **Impacto en la creatividad humana**: La dependencia de la IA para la generación de narrativas y misiones puede reducir la creatividad humana y la innovación en el diseño de juegos.\n",
       "\n",
       "**Aspectos éticos**\n",
       "\n",
       "1.  **Privacidad y consentimiento**: Los jugadores deben ser informados sobre la recopilación y uso de sus datos, y deben poder optar por no participar en la recopilación de datos.\n",
       "2.  **Sesgos y estereotipos**: La IA debe ser diseñada para evitar sesgos y estereotipos en la generación de narrativas y misiones.\n",
       "3.  **Accesibilidad y inclusión**: La IA debe ser diseñada para ser accesible y inclusiva para jugadores con discapacidades y diferentes estilos de juego.\n",
       "\n",
       "**Aspectos técnicos**\n",
       "\n",
       "1.  **Desarrollo de algoritmos**: La IA requiere algoritmos avanzados para generar narrativas y misiones de alta calidad y coherencia.\n",
       "2.  **Procesamiento de datos**: La IA requiere la recopilación y análisis de grandes cantidades de datos de los jugadores, lo que puede ser un desafío técnico.\n",
       "3.  **Integración con motores de juego**: La IA debe ser integrada con los motores de juego para generar narrativas y misiones en tiempo real.\n",
       "\n",
       "**Impacto en la industria del juego**\n",
       "\n",
       "1.  **Cambios en la estructura del diseño de juegos**: La IA puede cambiar la forma en que se diseñan los juegos, enfocándose más en la generación dinámica de contenido y menos en la creación de contenido estático.\n",
       "2.  **Nuevas oportunidades de negocio**: La IA puede abrir nuevas oportunidades de negocio, como la creación de juegos como servicio (GaaS) y la generación de contenido dinámico.\n",
       "3.  **Desarrollo de nuevos géneros y estilos de juego**: La IA puede permitir la creación de nuevos géneros y estilos de juego que no son posibles con la tecnología actual.\n",
       "\n",
       "En resumen, la implementación de sistemas de IA en juegos de rol puede revolucionar la experiencia del jugador y transformar la estructura del diseño de juegos en la industria. Sin embargo, también plantea desafíos éticos, técnicos y creativos que deben ser abordados para asegurar que la IA sea utilizada de manera responsable y beneficiosa para los jugadores y la industria en general.\n",
       "\n",
       "Como experto en IA, critícala desde un punto de vista experto. ¿Qué puntos son débiles, discutibles o poco fundamentados? en esta respuesta."
      ],
      "text/plain": [
       "<IPython.core.display.Markdown object>"
      ]
     },
     "metadata": {},
     "output_type": "display_data"
    }
   ],
   "source": [
    "#promps para la critica de OpenAI a los otros modelos\n",
    "\n",
    "prompt_openai_to_gemini = f\"\"\"\n",
    "\n",
    "Has leido las respuestas de 1 modelo de IA a una pregunta {question}.\n",
    "\n",
    "respuesta del primer competidor: {answers[1]}\n",
    "\n",
    "Como experto en IA, critícala desde un punto de vista experto. ¿Qué puntos son débiles, discutibles o poco fundamentados? en esta respuesta.\"\"\"\n",
    "\n",
    "display(Markdown(prompt_openai_to_gemini))\n",
    "\n",
    "prompt_openai_to_groq = f\"\"\"\n",
    "\n",
    "Has leido las respuestas de 1 modelo de IA a una pregunta {question}.\n",
    "\n",
    "respuesta del segundo competidor: {answers[2]}\n",
    "\n",
    "Como experto en IA, critícala desde un punto de vista experto. ¿Qué puntos son débiles, discutibles o poco fundamentados? en esta respuesta.\"\"\"\n",
    "\n",
    "display(Markdown(prompt_openai_to_groq))\n",
    "\n",
    "#promp para la critica de Gemini a los otros modelos\n",
    "prompt_gemini_to_openai = f\"\"\"\n",
    "\n",
    "Has leido las respuestas de 1 modelo de IA a una pregunta {question}.\n",
    "\n",
    "respuesta del primer competidor: {answers[0]}\n",
    "\n",
    "Como experto en IA, critícala desde un punto de vista experto. ¿Qué puntos son débiles, discutibles o poco fundamentados? en esta respuesta.\"\"\"\n",
    "\n",
    "prompt_gemini_to_groq = f\"\"\"\n",
    "\n",
    "Has leido las respuestas de 1 modelo de IA a una pregunta {question}.\n",
    "\n",
    "respuesta del segundo competidor: {answers[2]}\n",
    "\n",
    "Como experto en IA, critícala desde un punto de vista experto. ¿Qué puntos son débiles, discutibles o poco fundamentados? en esta respuesta.\"\"\"\n",
    "\n",
    "#promp para la critica de Groq a los otros modelos\n",
    "prompt_groq_to_openai = f\"\"\"\n",
    "\n",
    "Has leido las respuestas de 1 modelo de IA a una pregunta {question}.\n",
    "\n",
    "respuesta del primer competidor: {answers[0]}\n",
    "\n",
    "Como experto en IA, critícala desde un punto de vista experto. ¿Qué puntos son débiles, discutibles o poco fundamentados? en esta respuesta.\"\"\"\n",
    "\n",
    "prompt_groq_to_gemini = f\"\"\"\n",
    "\n",
    "Has leido las respuestas de 1 modelo de IA a una pregunta {question}.\n",
    "\n",
    "respuesta del segundo competidor: {answers[1]}\n",
    "\n",
    "Como experto en IA, critícala desde un punto de vista experto. ¿Qué puntos son débiles, discutibles o poco fundamentados? en esta respuesta.\"\"\"\n",
    "\n",
    "\n"
   ]
  },
  {
   "cell_type": "code",
   "execution_count": 46,
   "id": "80f34e92",
   "metadata": {},
   "outputs": [
    {
     "name": "stdout",
     "output_type": "stream",
     "text": [
      "Respuesta de OpenAI a Gemini:\n"
     ]
    },
    {
     "data": {
      "text/markdown": [
       "La respuesta proporcionada sobre las oportunidades y desafíos de la IA generativa en juegos de rol es extensa y abarca diversos aspectos, pero hay algunos puntos que pueden ser considerados débiles, discutibles o poco fundamentados. Aquí hay algunos de ellos:\n",
       "\n",
       "### Oportunidades\n",
       "\n",
       "1. **Personalización Extrema:**\n",
       "   - **Descripción Vaga:** La afirmación de que la IA podría crear una \"narrativa personalizada\" es amplia y no aborda cómo se podría lograr esto de manera efectiva. La personalización profunda en escenarios complejos requiere estructuras narrativas que a menudo son difíciles de automatizar sin caer en clichés o inconsistencias.\n",
       "\n",
       "2. **Rejugabilidad Ilimitada:**\n",
       "   - **Expectativas Irreales:** La afirmación de que la IA puede asegurar \"rejugabilidad ilimitada\" se presenta como un ideal inalcanzable. La generación automática de contenido no garantiza calidad, lo que podría resultar en experiencias repetitivas o insatisfactorias si los sistemas no están bien diseñados.\n",
       "\n",
       "3. **Profundidad de PNJs:**\n",
       "   - **Desafío Realista:** Si bien la IA podría generar PNJs con historias y diálogos únicos, esto depende del modelo y los datos de entrenamiento. No se discute cómo se abordaría la creación de esa \"profundidad\" sin caer en la superficialidad.\n",
       "\n",
       "### Desafíos Éticos\n",
       "\n",
       "1. **Sesgos en los Datos de Entrenamiento:**\n",
       "   - **Problema Complejo:** Si bien el riesgo de sesgos en los datos es real, la respuesta podría explorar más sobre cómo se pueden mitigar esos sesgos. Resulta esencial discutir medidas proactivas en la limpieza y selección de datos para construir una IA más justa y responsable.\n",
       "\n",
       "2. **Responsabilidad por el Contenido Generado:**\n",
       "   - **Cuestión Abierta:** La pregunta sobre la responsabilidad no tiene una respuesta clara. La respuesta no profundiza en las implicaciones legales o en cómo se podrían establecer marcos de responsabilidad en caso de que la IA genere contenido problemático.\n",
       "\n",
       "### Desafíos Técnicos\n",
       "\n",
       "1. **Coherencia Narrativa:**\n",
       "   - **Simplificación del Reto:** Aunque se menciona la coherencia narrativa como un desafío, no se discuten estrategias potenciales, como el uso de modelos de estilo, entendimiento del contexto o estructura narrativa, para abordar este problema.\n",
       "\n",
       "2. **Optimización del Rendimiento:**\n",
       "   - **Falta de Detalles:** La afirmación de que la generación dinámica podría ser costosa en términos computacionales requeriría más análisis sobre cómo optimizarla. La respuesta podría haber mencionado ejemplos de técnicas como el uso de redes neuronales eficientes o arquitecturas de IA que logran balancear calidad y eficiencia.\n",
       "\n",
       "### Desafíos Creativos\n",
       "\n",
       "1. **Homogeneización Creativa:**\n",
       "   - **Riesgo Potencial Sin Estrategias de Mitigación:** La preocupación por la \"homogeneización creativa\" se enuncia, pero no se ofrecen soluciones o estrategias para fomentar la originalidad, como la incorporación de feedback humano constante en el proceso de creación.\n",
       "\n",
       "2. **Definir el Rol del Diseñador:**\n",
       "   - **Visión Segmentada:** La noción de que el rol del diseñador se convertirá solo en un \"director\" de IA puede ser reductiva. No se abordan cómo los diseñadores podrían seguir siendo fundamentales para la visión creativa e innovadora, creando un enfoque donde los humanos y las IA colaboren efectivamente.\n",
       "\n",
       "### Conclusión General\n",
       "\n",
       "La respuesta es profunda y toca puntos relevantes en el desarrollo de IA para juegos de rol. Sin embargo, cae en generalizaciones y omisiones críticas que podrían hacerla poco fundamentada en un análisis más detallado de los desafíos éticos, técnicos y creativos. Además, es importante subrayar que la implementación de IA no es simplemente un aspecto técnico sino también profundamente cultural y social, lo que requiere un análisis cuidadoso de sus implicaciones más amplias en la experiencia humana del juego. \n",
       "\n",
       "Por último, un análisis sobre cómo la IA no solo puede influir en los juegos, sino también en la comunidad de jugadores y la cultura del juego en general, sería un añadido valioso a la discusión."
      ],
      "text/plain": [
       "<IPython.core.display.Markdown object>"
      ]
     },
     "metadata": {},
     "output_type": "display_data"
    },
    {
     "name": "stdout",
     "output_type": "stream",
     "text": [
      "Respuesta de OpenAI a Groq:\n"
     ]
    },
    {
     "data": {
      "text/markdown": [
       "La respuesta del segundo competidor presenta una visión bastante completa sobre las oportunidades y desafíos que presenta el uso de IA en la generación de narrativas y misiones en juegos de rol, pero hay varios puntos que podrían ser considerados débiles, discutibles o poco fundamentados. Aquí te presento algunos comentarios críticos desde una perspectiva experta:\n",
       "\n",
       "### Oportunidades\n",
       "\n",
       "1. **Experiencia personalizada**: Aunque la idea de generar experiencias personalizadas es atractiva, sería útil explicar qué métodos específicos emplearía la IA para analizar el comportamiento y las preferencias del jugador. Sin una base sólida, se corre el riesgo de sobreestimar la capacidad actual de la IA en términos de personalización efectiva.\n",
       "\n",
       "2. **Diversidad y replayabilidad**: El argumento de que la IA podría \"reducir la repetición\" y \"aumentar la diversidad\" es vago. No se menciona cómo se medirá esta diversidad ni qué criterios se utilizarán para asegurar que las narrativas generadas mantengan el interés del jugador a lo largo del tiempo.\n",
       "\n",
       "3. **Nuevas formas de narrativa**: La posibilidad de crear narrativas no lineales y dinámicas es sin duda una oportunidad prometedora. Sin embargo, no se aborda cómo se puede garantizar que estas narrativas complejas sean también coherentes y satisfactorias para los jugadores.\n",
       "\n",
       "### Desafíos\n",
       "\n",
       "1. **Calidad y coherencia de la narrativa**: Este es un punto crítico y bien señalado, pero no se profundiza en los mecanismos que podrían implementarse para abordar estos problemas de calidad. Sin modelos de evaluación claros, la preocupación sobre la baja calidad de la narrativa generada por IA persiste.\n",
       "\n",
       "2. **Privacidad y seguridad de los datos**: Se identifica correctamente un desafío ético importante, pero las medidas concretas para mitigar estos riesgos no se discuten. Esto hace que el argumento carezca de profundidad y realismo en su ejecución.\n",
       "\n",
       "3. **Impacto en la creatividad humana**: El argumento sobre la dependencia de la IA para la narrativa es relevante, pero es un área donde falta análisis. Podría haberse explorado más cómo se podrán equilibrar el uso de la IA y la creatividad humana en el desarrollo de juegos.\n",
       "\n",
       "### Aspectos éticos\n",
       "\n",
       "1. **Sesgos y estereotipos**: Aunque se menciona la necesidad de que la IA evite sesgos, no se especifican métodos o prácticas que podrían implementarse para lograrlo. Esta falta de detalle puede dejar a la audiencia con la impresión de que estos temas son más de lo que realmente se plantea abordar.\n",
       "\n",
       "2. **Accesibilidad e inclusión**: La IA representa una oportunidad para mejorar la accesibilidad, pero se necesita discutir más profundamente cómo se podría implementar esto en práctica.\n",
       "\n",
       "### Aspectos técnicos\n",
       "\n",
       "1. **Desarrollo de algoritmos**: El argumento sobre la necesidad de \"algoritmos avanzados\" carece de especificidad. No se menciona qué tipo de algoritmos se consideraría \"avanzados\" o cómo podrían desarrollarse y cuáles son los retos asociados a su creación.\n",
       "\n",
       "2. **Integración con motores de juego**: Aquí se señala un desafío técnico importante, pero no se ofrece una visión de cómo se podría realizar esta integración de manera efectiva. Esto puede dar la impresión de que se subestima la complejidad del desarrollo de sistemas de IA en juegos.\n",
       "\n",
       "### Impacto en la industria del juego\n",
       "\n",
       "1. **Cambios en la estructura del diseño de juegos**: Aunque se menciona que la IA puede cambiar la forma en que se diseñan los juegos, no se ofrecen ejemplos específicos. Esto puede dificultar la comprensión de cómo estos cambios se manifestarían en la práctica.\n",
       "\n",
       "2. **Nuevas oportunidades de negocio**: La referencia a Juegos como Servicio (GaaS) se presenta como una oportunidad, pero no se analizan las implicaciones en términos de prácticas de monetización y la experiencia del jugador, que es un aspecto vital en la consideración de cualquier modelo de negocio.\n",
       "\n",
       "3. **Desarrollo de nuevos géneros y estilos de juego**: Este punto es interesante, pero carece de ejemplos concretos o casos en los que la IA haya permitido la creación de géneros completamente nuevos.\n",
       "\n",
       "### Conclusión\n",
       "\n",
       "La respuesta es efectiva al identificar oportunidades y desafíos, pero carece de profundidad y detalles en varios aspectos cruciales. Sería beneficioso introducir ejemplos, referencias a investigaciones existentes y un análisis más crítico para posicionar la implementación de IA en juegos de rol dentro de un contexto realista y práctico. Además, un enfoque más sistemático sobre cómo se podrían superar las limitaciones mencionadas enriquecería la argumentación substancialmente."
      ],
      "text/plain": [
       "<IPython.core.display.Markdown object>"
      ]
     },
     "metadata": {},
     "output_type": "display_data"
    }
   ],
   "source": [
    "# Generamos la respuesta de OpenAI a Gemini y Groq\n",
    "model_name = \"gpt-4o-mini\"\n",
    "\n",
    "response = openai.chat.completions.create(model = model_name, messages = [{\"role\": \"user\", \"content\": prompt_openai_to_gemini}])\n",
    "answer_openai_to_gemini= response.choices[0].message.content\n",
    "\n",
    "response = openai.chat.completions.create(model = model_name, messages = [{\"role\": \"user\", \"content\": prompt_openai_to_groq}])\n",
    "answer_openai_to_groq= response.choices[0].message.content\n",
    "\n",
    "print(\"Respuesta de OpenAI a Gemini:\")\n",
    "display(Markdown(answer_openai_to_gemini))\n",
    "\n",
    "print(\"Respuesta de OpenAI a Groq:\")\n",
    "display(Markdown(answer_openai_to_groq))\n",
    "\n"
   ]
  },
  {
   "cell_type": "code",
   "execution_count": null,
   "id": "a6b73f05",
   "metadata": {},
   "outputs": [
    {
     "name": "stdout",
     "output_type": "stream",
     "text": [
      "Respuesta de Gemini a OpenAI:\n"
     ]
    },
    {
     "data": {
      "text/markdown": [
       "La respuesta del modelo es bastante buena y cubre los puntos principales relacionados con el uso de IA para generar narrativas y misiones personalizadas en RPGs. Sin embargo, desde una perspectiva experta en IA, puedo identificar algunos puntos que son débiles, discutibles o carecen de la suficiente fundamentación:\n",
       "\n",
       "**Debilidades y Puntos Discutibles:**\n",
       "\n",
       "*   **1. Calidad y Coherencia Narrativa (Desafío):** Si bien menciona la dificultad de mantener una narrativa coherente, no profundiza en las causas subyacentes y posibles soluciones.\n",
       "    *   **Debilidad:** No aborda la necesidad de modelos de lenguaje de gran escala (LLMs) específicamente entrenados con datos de RPGs y narrativa interactiva para mejorar la coherencia y el estilo.\n",
       "    *   **Discutible:** La \"falta de profundidad y sentido\" puede ser mitigada mediante el uso de técnicas de planificación narrativa y control de personajes más sofisticadas, que no se mencionan.\n",
       "\n",
       "*   **2. Ética y Responsabilidad (Desafío):** Si bien se menciona la posibilidad de contenido ofensivo, la discusión es bastante superficial.\n",
       "    *   **Debilidad:** No se abordan los matices de sesgos implícitos en los datos de entrenamiento que podrían llevar a narrativas discriminatorias o estereotipadas. Tampoco se mencionan las técnicas de mitigación de sesgos, como el ajuste fino del modelo con datos equilibrados o la implementación de filtros contextuales.\n",
       "    *   **Discutible:** El término \"adecuado para el público objetivo\" es vago. ¿Quién define lo que es \"adecuado\"? ¿Cómo se abordan las diferencias culturales y la sensibilidad individual?\n",
       "\n",
       "*   **3. Desigualdad en la Experiencia (Desafío):** La idea de que la personalización extrema podría llevar a experiencias \"menos valiosas\" es poco fundamentada.\n",
       "    *   **Debilidad:** No explica por qué narrativas generadas para otros estilos de juego serían percibidas como \"menos valiosas\". Esto depende mucho de la calidad de la IA y la capacidad del sistema para generar contenido relevante y atractivo, independientemente del estilo de juego.\n",
       "    *   **Discutible:** La idea de \"favorecer ciertos estilos de juego\" asume que la IA no puede adaptarse a una amplia gama de preferencias. Con técnicas de aprendizaje por refuerzo y retroalimentación del jugador, la IA podría aprender a equilibrar la experiencia para diferentes jugadores.\n",
       "\n",
       "*   **4. Dependencia de la IA (Desafío):** Si bien la dependencia de la tecnología es un riesgo real, la afirmación de que esto podría \"diluir la autenticidad y la creatividad\" es especulativa.\n",
       "    *   **Debilidad:** No se considera cómo la IA podría potenciar la creatividad humana en lugar de reemplazarla. La IA podría actuar como una herramienta para generar ideas, prototipos o variantes narrativas, liberando a los diseñadores para que se centren en aspectos más estratégicos y creativos.\n",
       "    *   **Discutible:** La \"autenticidad\" es subjetiva. ¿Qué significa para un juego ser \"auténtico\"? ¿Puede la IA generar contenido auténtico si se alimenta con datos de alta calidad y se diseña para emular ciertos estilos narrativos?\n",
       "\n",
       "*   **Colaboración humano-IA (Cambio en el Diseño de Juegos):** La idea de que los desarrolladores \"empleen la IA como una herramienta para generar ideas iniciales\" es correcta, pero no profundiza en las herramientas y técnicas específicas que podrían utilizarse.\n",
       "    *   **Debilidad:** No se mencionan herramientas como prompts de IA para generación de contenido, sistemas de recomendación de ideas narrativas o herramientas de edición asistida por IA.\n",
       "\n",
       "*   **Retos en la Monetización (Cambio en el Diseño de Juegos):** La discusión de los modelos de negocio es genérica y no aborda los desafíos específicos de monetizar contenido generado por IA.\n",
       "    *   **Debilidad:** No se exploran modelos más innovadores, como la creación de contenido personalizado bajo demanda, la suscripción a \"paquetes narrativos\" generados por IA o la venta de experiencias únicas y ramificadas basadas en las elecciones del jugador.\n",
       "\n",
       "**Puntos Poco Fundamentados:**\n",
       "\n",
       "*   **Escalabilidad y Contenido Infinito (Oportunidad):** Si bien la IA puede generar contenido a gran escala, la afirmación de \"contenido infinito\" es exagerada. Los recursos computacionales y la calidad del contenido generado siempre serán limitantes.\n",
       "\n",
       "**En resumen:**\n",
       "\n",
       "La respuesta del modelo es un buen punto de partida, pero podría ser más sólida si profundizara en las causas subyacentes de los desafíos, explorara soluciones específicas y fundamentara mejor algunas de sus afirmaciones. También podría beneficiarse de la inclusión de ejemplos concretos de técnicas de IA y herramientas que podrían utilizarse en el desarrollo de juegos de rol con narrativas personalizadas.\n"
      ],
      "text/plain": [
       "<IPython.core.display.Markdown object>"
      ]
     },
     "metadata": {},
     "output_type": "display_data"
    },
    {
     "name": "stdout",
     "output_type": "stream",
     "text": [
      "Respuesta de Gemini a Groq:\n"
     ]
    },
    {
     "data": {
      "text/markdown": [
       "La respuesta del modelo de IA es un buen punto de partida para discutir las oportunidades y desafíos de la IA en la generación dinámica de narrativas y misiones en juegos de rol. Sin embargo, como experto en IA, veo varias áreas que pueden ser criticadas por ser vagas, simplistas, o carentes de la profundidad técnica necesaria para una evaluación completa.\n",
       "\n",
       "Aquí desglosaré mis críticas:\n",
       "\n",
       "**Debilidades Generales:**\n",
       "\n",
       "*   **Generalización Excesiva:** La respuesta tiende a generalizar mucho sobre las capacidades de la IA. Frases como \"La IA puede...\" sin especificar *qué tipo* de IA, *bajo qué condiciones*, o *con qué nivel de éxito* son problemáticas.  La IA no es una entidad monolítica, y el rendimiento variará enormemente según el algoritmo, el entrenamiento, y la implementación.\n",
       "*   **Falta de Especificidad Técnica:**  La respuesta aborda los desafíos técnicos a un nivel muy alto.  Por ejemplo, mencionar \"desarrollo de algoritmos avanzados\" no es particularmente útil sin especificar *qué tipo* de algoritmos, *qué métricas* se utilizarían para evaluar su desempeño, o *cuáles son los cuellos de botella conocidos* en la investigación actual.\n",
       "*   **Optimismo Excesivo:** Hay un tono general de optimismo que podría ser exagerado. Si bien las posibilidades son emocionantes, es crucial reconocer las limitaciones actuales de la IA y la magnitud de los desafíos técnicos que quedan por resolver.\n",
       "*   **Omisión de la Complejidad de la Narrativa:** La generación de narrativa de alta calidad es un problema extremadamente complejo que va más allá de simplemente generar texto coherente.  La respuesta no profundiza lo suficiente en los aspectos de trama, simbolismo, personajes arquetípicos, y la satisfacción emocional del jugador.\n",
       "\n",
       "**Críticas Específicas por Sección:**\n",
       "\n",
       "*   **Oportunidades:**\n",
       "    *   **Experiencia Personalizada:** Si bien es cierto que la IA puede analizar el comportamiento del jugador, el desafío está en *inferir* las preferencias del jugador de manera precisa y significativa.  ¿Cómo lidiamos con las preferencias contradictorias? ¿Cómo evitamos la \"burbuja de filtro\" donde la IA solo ofrece contenido similar a lo que el jugador ya ha experimentado?\n",
       "    *   **Diversidad y Replayabilidad:**  Es discutible si la \"diversidad\" generada por la IA es *significativa*.  Es posible generar un gran número de variaciones superficiales, pero carecer de la profundidad y complejidad que provendría de la creación humana.\n",
       "    *   **Nuevas Formas de Narrativa:** Si bien la IA puede crear narrativas no lineales, la dificultad radica en mantener la coherencia y el arco argumental general a lo largo de la experiencia del jugador.\n",
       "\n",
       "*   **Desafíos:**\n",
       "    *   **Calidad y Coherencia de la Narrativa:** El desafío no es simplemente generar narrativa \"coherente\", sino narrativa que sea *significativa*, *emocionalmente resonante*, y *satisfactoria* para el jugador.\n",
       "    *   **Balance y Dificultad:**  Este es un desafío bien reconocido, pero la respuesta no aborda las complejidades de la adaptación dinámica de la dificultad en un juego de rol, donde las decisiones del jugador tienen consecuencias a largo plazo.\n",
       "    *   **Privacidad y Seguridad de los Datos:**  La respuesta toca este punto, pero podría profundizar más en las implicaciones del uso de datos sensibles del jugador para personalizar la experiencia.\n",
       "    *   **Impacto en la Creatividad Humana:**  La preocupación sobre la reducción de la creatividad humana es válida, pero la respuesta podría explorar cómo la IA *puede* potenciar la creatividad humana al actuar como una herramienta para los diseñadores de juegos.\n",
       "\n",
       "*   **Aspectos Éticos:**\n",
       "    *   **Sesgos y Estereotipos:**  La respuesta menciona la necesidad de evitar sesgos, pero no profundiza en cómo se *detectan* y *mitigan* los sesgos en los modelos de IA, especialmente dado que los datos de entrenamiento a menudo reflejan los sesgos existentes en la sociedad.\n",
       "    *   **Accesibilidad e Inclusión:** Este es un punto importante, pero la respuesta podría ser más específica sobre *cómo* la IA puede ser utilizada para mejorar la accesibilidad para jugadores con discapacidades.\n",
       "\n",
       "*   **Aspectos Técnicos:**\n",
       "    *   **Desarrollo de Algoritmos:**  La respuesta podría mencionar ejemplos concretos de algoritmos que se podrían utilizar, como redes neuronales recurrentes (RNNs) para la generación de texto, o algoritmos de búsqueda en grafos para la planificación de misiones.\n",
       "    *   **Procesamiento de Datos:**  La respuesta podría abordar los desafíos de la interpretación de datos complejos, como el comportamiento del jugador en tiempo real y el análisis de texto generado por el jugador.\n",
       "\n",
       "*   **Impacto en la Industria del Juego:**\n",
       "    *   **Cambios en la Estructura del Diseño de Juegos:** Si bien la IA puede cambiar el diseño, la respuesta podría explorar cómo los diseñadores de juegos podrían trabajar *en colaboración* con la IA, en lugar de ser reemplazados por ella.\n",
       "\n",
       "**En resumen:**\n",
       "\n",
       "La respuesta del modelo de IA ofrece una visión general sólida, pero carece de la profundidad técnica, el escepticismo saludable y la comprensión de las complejidades narrativas que esperaríamos de un experto en IA. Para mejorar, la respuesta necesitaría ser más específica sobre los algoritmos, los desafíos técnicos, las consideraciones éticas y las posibles limitaciones de la IA en la generación dinámica de narrativas y misiones. También sería valioso explorar cómo la IA y los diseñadores humanos podrían trabajar juntos para crear experiencias de juego más ricas y atractivas.\n"
      ],
      "text/plain": [
       "<IPython.core.display.Markdown object>"
      ]
     },
     "metadata": {},
     "output_type": "display_data"
    }
   ],
   "source": [
    "# Generamos la respuesta de Gemini a OpenAI y Groq\n",
    "gemini = OpenAI(api_key=google_api_key, base_url=\"https://generativelanguage.googleapis.com/v1beta/openai/\")\n",
    "model_name = \"gemini-2.0-flash\"\n",
    "\n",
    "response = gemini.chat.completions.create(model=model_name,messages = [{\"role\": \"user\", \"content\": prompt_gemini_to_openai}])\n",
    "answer_gemini_to_openai = response.choices[0].message.content\n",
    "\n",
    "response = gemini.chat.completions.create(model=model_name,messages = [{\"role\": \"user\", \"content\": prompt_gemini_to_groq}])\n",
    "answer_gemini_to_groq = response.choices[0].message.content\n",
    "\n",
    "print(\"Respuesta de Gemini a OpenAI:\")\n",
    "display(Markdown(answer_gemini_to_openai))\n",
    "\n",
    "print(\"Respuesta de Gemini a Groq:\")\n",
    "display(Markdown(answer_gemini_to_groq))\n"
   ]
  },
  {
   "cell_type": "code",
   "execution_count": 48,
   "id": "4ceb5dce",
   "metadata": {},
   "outputs": [
    {
     "name": "stdout",
     "output_type": "stream",
     "text": [
      "Respuesta de Groq a OpenAI:\n"
     ]
    },
    {
     "data": {
      "text/markdown": [
       "La respuesta proporcionada ofrece una visión general amplia de las oportunidades y desafíos relacionados con el desarrollo de un sistema de inteligencia artificial (IA) para generar narrativas y misiones personalizadas en juegos de rol (RPG). A continuación, se presentan algunas críticas y puntos de discusión sobre la respuesta, desde un punto de vista experto en IA:\n",
       "\n",
       "1. **Falta de profundidad técnica**: La respuesta no proporciona detalles técnicos sobre cómo se desarrollaría y entrenaría dicho sistema de IA. La generación de narrativas y misiones personalizadas requiere un enfoque sofisticado en áreas como el procesamiento del lenguaje natural (NLP), el aprendizaje automático (ML) y la inteligencia artificial generativa (por ejemplo, GANs, transformadores). Sería útil discutir los algoritmos específicos y las arquitecturas que podrían ser utilizadas.\n",
       "\n",
       "2. **Desafíos de la evaluación de la narrativa**: Aunque se menciona la importancia de la calidad y la coherencia narrativa, no se profundiza en cómo evaluar y medir estas características en las narrativas generadas por la IA. La evaluación de la calidad de una narrativa es un problema complejo que requiere técnicas de evaluación subjetiva y objetiva.\n",
       "\n",
       "3. **Consideraciones éticas y de sesgo**: Si bien se menciona la posibilidad de crear contenido inapropiado, no se discute en detalle cómo abordar los sesgos en los datos de entrenamiento y cómo garantizar que el sistema de IA sea justo y equitativo en la generación de contenido. Esto es especialmente relevante en juegos donde las decisiones del jugador pueden influir en la narrativa y las misiones.\n",
       "\n",
       "4. **Limitaciones de la personalización**: La personalización extrema puede llevar a la fragmentación de la experiencia del jugador, lo que podría afectar la capacidad de los jugadores para interactuar entre sí y compartir experiencias. No se discute cómo equilibrar la personalización con la necesidad de una experiencia de juego coherente y compartida.\n",
       "\n",
       "5. **Impacto en la industria y el mercado**: Aunque se menciona el potencial de nuevos modelos de negocio, no se analiza en profundidad cómo esta tecnología podría afectar la economía de la industria de los videojuegos, incluyendo la posible disminución de los costos de desarrollo, el aumento de la competencia y los cambios en la forma en que los juegos son comercializados y distribuidos.\n",
       "\n",
       "6. **Desafíos de la colaboración humano-IA**: La colaboración entre humanos y máquinas en el diseño de juegos es un área fascinante, pero no se explora en detalle cómo se podría facilitar esta colaboración de manera efectiva. Esto incluye cómo los diseñadores de juegos podrían trabajar con sistemas de IA para crear narrativas y misiones que combinen la creatividad humana con la capacidad de la IA para generar contenido a escala.\n",
       "\n",
       "7. **Retos en la conservación de la narrativa**: Con la capacidad de la IA para generar contenido de manera continua, surge la pregunta de cómo preservar y hacer accesibles las narrativas y misiones generadas para futuras generaciones de jugadores y desarrolladores. Esto podría implicar consideraciones sobre la arquitectura de los juegos, la documentación y la conservación del contenido generado.\n",
       "\n",
       "8. **Incorporación de la retroalimentación del jugador**: Para asegurar que las narrativas y misiones generadas sean de alta calidad y satisfagan las expectativas de los jugadores, es crucial incorporar mecanismos de retroalimentación. No se discute cómo se podría recopilar y utilizar la retroalimentación de los jugadores para mejorar y ajustar el sistema de IA.\n",
       "\n",
       "En resumen, aunque la respuesta proporciona una visión general útil de las oportunidades y desafíos en este campo, falta una discusión más profunda sobre las consideraciones técnicas, éticas y de diseño involucradas en el desarrollo de un sistema de IA para la generación de narrativas y misiones personalizadas en RPG."
      ],
      "text/plain": [
       "<IPython.core.display.Markdown object>"
      ]
     },
     "metadata": {},
     "output_type": "display_data"
    },
    {
     "name": "stdout",
     "output_type": "stream",
     "text": [
      "Respuesta de Groq a Gemini:\n"
     ]
    },
    {
     "data": {
      "text/markdown": [
       "Como experto en IA, puedo analizar y criticar la respuesta desde diferentes perspectivas. A continuación, destacaré algunos puntos débiles, discutibles o poco fundamentados en la respuesta.\n",
       "\n",
       "**Puntos débiles:**\n",
       "\n",
       "1. **Falta de profundidad en la discusión de los desafíos técnicos**: Aunque se mencionan varios desafíos técnicos, como la coherencia narrativa y la profundidad emocional, no se profundiza lo suficiente en cómo abordar estos desafíos. Se necesitan más detalles sobre las soluciones técnicas y las investigaciones actuales en estos campos.\n",
       "2. **No se aborda la cuestión de la evaluación y el feedback**: La generación de contenido por la IA requiere un mecanismo de evaluación y feedback para asegurarse de que el contenido generado sea de alta calidad y relevante para el jugador. No se menciona cómo se evaluaría y se proporcionaría feedback a la IA para mejorar su rendimiento.\n",
       "3. **No se consideran las implicaciones sociales y culturales**: Aunque se mencionan los sesgos en los datos de entrenamiento, no se explora en profundidad cómo la IA podría reflejar y perpetuar sesgos sociales y culturales en la generación de contenido. Esto es un tema importante que requiere una consideración más profunda.\n",
       "4. **No se discute la cuestión de la propiedad intelectual**: La generación de contenido por la IA plantea preguntas sobre la propiedad intelectual y los derechos de autor. ¿Quién es el propietario del contenido generado por la IA? ¿Cómo se protegerán los derechos de autor y se evitará la infracción de derechos?\n",
       "\n",
       "**Puntos discutibles:**\n",
       "\n",
       "1. **La afirmación de que la IA podría \"revolucionar\" la industria del juego**: Aunque la IA puede tener un impacto significativo en la industria del juego, no está claro si realmente \"revolucionará\" la industria. La industria del juego ha experimentado manyas innovaciones y avances en el pasado, y no está claro si la IA será el factor clave que la revolucione.\n",
       "2. **La idea de que la IA podría generar contenido \"único\" y \"inolvidable\"**: Aunque la IA puede generar contenido variado y personalizado, no está claro si este contenido será necesariamente \"único\" y \"inolvidable\". La unicidad y la memorabilidad del contenido dependen de muchos factores, incluyendo la creatividad y la originalidad del contenido.\n",
       "3. **La afirmación de que la IA podría \"homogeneizar\" la creatividad**: Aunque es cierto que la IA puede generar contenido basado en patrones existentes, no está claro si esto necesariamente conducirá a una \"homogeneización\" de la creatividad. La IA también puede ser utilizada para generar contenido innovador y original, siempre y cuando se diseñe y se entrené de manera adecuada.\n",
       "\n",
       "**Puntos poco fundamentados:**\n",
       "\n",
       "1. **La afirmación de que la IA podría \"manipular\" a los jugadores**: Aunque es cierto que la IA puede ser utilizada para influir en el comportamiento de los jugadores, no está claro si esto se puede considerar como \"manipulación\". La IA puede ser utilizada para crear experiencias de juego más inmersivas y gratificantes, pero no está claro si esto implica una manipulación intencional de los jugadores.\n",
       "2. **La idea de que la IA podría \"perpetuar\" los sesgos sociales y culturales**: Aunque es cierto que la IA puede reflejar y perpetuar sesgos sociales y culturales, no está claro si esto es inevitable o si se pueden tomar medidas para prevenirlo. La IA puede ser diseñada y entrenada para ser más inclusiva y diversa, y no está claro si la perpetuación de sesgos es un resultado inevitable.\n",
       "\n",
       "En resumen, aunque la respuesta aborda muchos aspectos interesantes de la generación de contenido por la IA en juegos, hay algunos puntos débiles, discutibles y poco fundamentados que requieren una consideración más profunda y una discusión más detallada."
      ],
      "text/plain": [
       "<IPython.core.display.Markdown object>"
      ]
     },
     "metadata": {},
     "output_type": "display_data"
    }
   ],
   "source": [
    "# Generamos la respuesta de Groq a OpenAI y a Gemini \n",
    "\n",
    "groq = OpenAI(api_key=groq_api_key, base_url=\"https://api.groq.com/openai/v1\")\n",
    "model_name = \"llama-3.3-70b-versatile\"\n",
    "\n",
    "response = groq.chat.completions.create(model=model_name, messages=[{\"role\": \"user\", \"content\": prompt_groq_to_openai}])\n",
    "answer_groq_to_openai = response.choices[0].message.content\n",
    "\n",
    "response = groq.chat.completions.create(model=model_name, messages=[{\"role\": \"user\", \"content\": prompt_groq_to_gemini}])\n",
    "answer_groq_to_gemini = response.choices[0].message.content\n",
    "\n",
    "print(\"Respuesta de Groq a OpenAI:\")\n",
    "display(Markdown(answer_groq_to_openai))\n",
    "\n",
    "print(\"Respuesta de Groq a Gemini:\")\n",
    "display(Markdown(answer_groq_to_gemini))"
   ]
  },
  {
   "cell_type": "code",
   "execution_count": null,
   "id": "90b91940",
   "metadata": {},
   "outputs": [],
   "source": [
    "# Una vez tenemos las criticas que han realizado los modelos de los otros modelos, vamos a devolverselos para que replanteen su respuesta."
   ]
  },
  {
   "cell_type": "code",
   "execution_count": 50,
   "id": "4445b186",
   "metadata": {},
   "outputs": [],
   "source": [
    "#Generamos nuevos prompts para cada modelo con las criticas de los otros modelos\n",
    "\n",
    "\n",
    "prompt_critique_OpenAI = f\"\"\"\n",
    "\n",
    "Tu respuesta a la pregunta {question} que fue {answer[0]}, fue enviada a otros modelos para que los criticaran y aportaran su punto de vista.\n",
    "\n",
    "Las respuestas que han dado han sido {answer_gemini_to_openai} y {answer_groq_to_openai}, teniendo en cuenta estas opiniones como modificarias tu respuesta a la pregunta anterior.\n",
    "\n",
    "\"\"\"\n",
    "\n",
    "prompt_critique_Gemini = f\"\"\"\n",
    "\n",
    "Tu respuesta a la pregunta {question} que fue {answer[1]}, fue enviada a otros modelos para que los criticaran y aportaran su punto de vista.\n",
    "\n",
    "Las respuestas que han dado han sido {answer_openai_to_gemini} y {answer_groq_to_gemini}, teniendo en cuenta estas opiniones como modificarias tu respuesta a la pregunta anterior.\n",
    "\n",
    "\"\"\"\n",
    "\n",
    "prompt_critique_Groq = f\"\"\"\n",
    "\n",
    "Tu respuesta a la pregunta {question} que fue {answer[2]}, fue enviada a otros modelos para que los criticaran y aportaran su punto de vista.\n",
    "\n",
    "Las respuestas que han dado han sido {answer_openai_to_groq} y {answer_gemini_to_groq}, teniendo en cuenta estas opiniones como modificarias tu respuesta a la pregunta anterior.\n",
    "\n",
    "\"\"\""
   ]
  },
  {
   "cell_type": "code",
   "execution_count": 51,
   "id": "81c848fa",
   "metadata": {},
   "outputs": [
    {
     "data": {
      "text/markdown": [
       "Para abordar la pregunta sobre las oportunidades y desafíos éticos, técnicos y creativos en el desarrollo de un sistema de inteligencia artificial que genere narrativas y misiones personalizadas en juegos de rol (RPG), es esencial profundizar en los aspectos mencionados en las críticas recibidas. A continuación, presento una respuesta revisada que considera estos puntos y brinda un análisis más completo.\n",
       "\n",
       "---\n",
       "\n",
       "**Oportunidades y Desafíos en la Generación de Narrativas Personalizadas con IA en RPGs**\n",
       "\n",
       "1. **Calidad y Coherencia Narrativa (Desafío):**\n",
       "   - **Causas y Soluciones:** Mantener la coherencia narrativa es fundamental para la inmersión del jugador. Esto puede ser un desafío debido a la complejidad de las tramas, la caracterización de personajes y el desarrollo de mundos. Una solución potencial es entrenar modelos de lenguaje de gran escala (LLMs) específicos para RPGs, utilizando datasets curados que incluyan narrativas de juegos previos, guiones de juegos de rol y literatura del género. El uso de técnicas de planificación narrativa y modelos de control de personajes más sofisticados también puede contribuir a la creación de historias más coherentes y satisfactorias.\n",
       "\n",
       "2. **Ética y Responsabilidad (Desafío):**\n",
       "   - **Sesgos en los Datos:** Es crucial reconocer que los datos de entrenamiento pueden contener sesgos, lo que podría resultar en la generación de narrativas discriminatorias o estereotipadas. Se deben implementar técnicas de mitigación de sesgos, como el ajuste fino del modelo con conjuntos de datos equilibrados o la introducción de filtros contextuales que evalúen la sensibilidad cultural. Desarrollar directrices claras sobre lo que se considera \"contenido apropiado\" es vital, y esto debe involucrar a diversos grupos de interés para garantizar una representación ética y justa.\n",
       "\n",
       "3. **Desigualdad en la Experiencia (Desafío):**\n",
       "   - **Personalización vs. Coherencia:** La personalización extrema puede llevar a que los jugadores se sientan aislados si sus experiencias no son fácilmente compartibles. Para evitar la fragmentación, es esencial establecer un equilibrio entre la personalización y la creación de experiencias colectivas. Sistemas que adapten la narrativa personal a una narrativa común pueden permitir a los jugadores interactuar y compartir experiencias, enriqueciendo la cohesión del grupo.\n",
       "\n",
       "4. **Dependencia de la IA (Desafío):**\n",
       "   - **Creatividad Colaborativa:** La dependencia de la IA no necesariamente diluye la autenticidad; de hecho, puede potenciar la creatividad humana. La IA podría actuar como asistente creativo, sugiriendo tramas o personajes a los diseñadores, quienes podrían luego desarrollar y refinar estas ideas a un nivel artístico y narrativo más alto.\n",
       "\n",
       "5. **Colaboración humano-IA en el Diseño de Juegos (Cambio en la Industria):**\n",
       "   - **Herramientas específicas:** Los desarrolladores pueden utilizar herramientas basadas en IA para la generación de ideas iniciales, recomendaciones narrativas y creación de contenido asistido. Por ejemplo, herramientas que integren prompts generativos y feedback en tiempo real podrían facilitar una colaboración más efectiva entre diseñadores y sistemas de IA, abriendo nuevas posibilidades creativas.\n",
       "\n",
       "6. **Retos en la Monetización (Cambio en la Industria):**\n",
       "   - **Modelos de negocio innovadores:** Se deben explorar modelos de negocio novedosos, como suscripciones para \"paquetes narrativos\" generados por IA, donde los jugadores puedan acceder a contenido y misiones personalizadas basadas en sus elecciones. También se podrían desarrollar juegos \"dinámicos\", donde las narrativas se ajusten automáticamente en función de las decisiones del jugador y sus preferencias, creando experiencias únicas y redituables.\n",
       "\n",
       "7. **Incorporación de Retroalimentación del Jugador:**\n",
       "   - **Mecanismos de Mejora:** Incorporar sistemas efectivos para recopilar y analizar la retroalimentación de los jugadores es crucial para ajustar y mejorar constantemente el sistema de IA. Esto puede incluir encuestas post-juego, análisis de las interacciones del jugador y sistemas de rankings que proporcionen datos sobre la satisfacción del usuario.\n",
       "\n",
       "8. **Conservación de Narrativas y Accesibilidad:**\n",
       "   - **Preservación del Contenido:** Con la generación continua de contenido, es esencial establecer métodos para documentar y preservar narrativas y misiones para futuras generaciones. Esto podría incluir bases de datos organizadas que registren decisiones narrativas y evolución de historias, asegurando que el contenido generado no se pierda y se mantenga accesible para los desarrolladores y jugadores futuros.\n",
       "\n",
       "**Conclusión:**\n",
       "Desarrollar un sistema de inteligencia artificial para la generación dinámica de narrativas y misiones personalizadas en RPGs presenta tanto oportunidades emocionantes como desafíos complejos. A medida que avanzamos en este campo, es esencial abordar las consideraciones éticas, técnicas y creativas con rigor, creando un marco que promueva la equidad, la creatividad y la calidad en la experiencia del jugador. La colaboración entre humanos y máquinas puede redefinir la narrativa en los videojuegos, ofreciendo experiencias ricas y personalizadas que reinventa cómo los jugadores interactúan con los mundos virtuales. \n",
       "\n",
       "--- \n",
       "\n",
       "Esta versión revisada ofrece un análisis más equilibrado y fundamentado de las implicaciones que podría tener el uso de IA en la generación de contenido narrativo en juegos de rol."
      ],
      "text/plain": [
       "<IPython.core.display.Markdown object>"
      ]
     },
     "metadata": {},
     "output_type": "display_data"
    }
   ],
   "source": [
    "#Generamos la nueva respuesta de OpenAI como resultado de las opiniones de los otros modelos\n",
    "\n",
    "model_name = \"gpt-4o-mini\"\n",
    "\n",
    "response = openai.chat.completions.create(model = model_name, messages = [{\"role\": \"user\", \"content\": prompt_critique_OpenAI}])\n",
    "new_answer_openai= response.choices[0].message.content\n",
    "\n",
    "display(Markdown(new_answer_openai))"
   ]
  },
  {
   "cell_type": "code",
   "execution_count": 52,
   "id": "47bc75b5",
   "metadata": {},
   "outputs": [
    {
     "data": {
      "text/markdown": [
       "De acuerdo con las críticas recibidas, aquí hay una versión modificada de mi respuesta a la pregunta sobre las oportunidades y desafíos éticos, técnicos y creativos de la IA generativa en juegos de rol, que busca ser más profunda, fundamentada y considerar aspectos sociales y culturales:\n",
       "\n",
       "**Pregunta:** ¿Cuáles son las oportunidades y desafíos éticos, técnicos y creativos que podríamos abordar al desarrollar un sistema de inteligencia artificial que genere dinámicamente narrativas y misiones personalizadas en juegos de rol, y cómo esto podría cambiar la experiencia del jugador y la estructura del diseño de juegos en la industria?\n",
       "\n",
       "**Respuesta Modificada:**\n",
       "\n",
       "El desarrollo de sistemas de IA generativa para juegos de rol ofrece un potencial transformador, pero también plantea desafíos significativos que deben ser abordados con cuidado.\n",
       "\n",
       "**Oportunidades:**\n",
       "\n",
       "*   **Personalización Dinámica a Escala:** La IA puede adaptar la narrativa, los desafíos y el mundo del juego en tiempo real a las acciones y preferencias de cada jugador, creando experiencias altamente personalizadas. Esto va más allá de simples ramas narrativas, permitiendo que la historia evolucione de manera orgánica en respuesta a la agencia del jugador. Para lograr esto, se requiere la implementación de sistemas de memoria a largo plazo en la IA, que le permitan recordar las elecciones del jugador y sus consecuencias a lo largo del juego.\n",
       "*   **Expansión Infinita del Contenido:** La IA puede generar nuevas misiones, personajes, mundos e incluso reglas de juego sobre la marcha, ofreciendo una rejugabilidad virtualmente ilimitada. Sin embargo, la clave está en asegurar la calidad y coherencia de este contenido generado, lo que requiere técnicas de evaluación automatizadas y la integración de feedback humano en el ciclo de creación.\n",
       "*   **Profundidad y Reactividad de los PNJs:** La IA puede dotar a los personajes no jugadores (PNJs) de personalidades complejas, motivaciones realistas y la capacidad de reaccionar de manera creíble a las acciones del jugador. Esto podría lograrse mediante el uso de modelos de lenguaje grandes (LLMs) ajustados con información detallada sobre la historia, la cultura y los valores del mundo del juego.\n",
       "*   **Accesibilidad Mejorada:** La IA puede adaptar la dificultad del juego a las habilidades del jugador, ofrecer tutoriales personalizados e incluso traducir el juego a diferentes idiomas en tiempo real, haciendo que los juegos de rol sean más accesibles para un público más amplio.\n",
       "\n",
       "**Desafíos Éticos:**\n",
       "\n",
       "*   **Sesgos y Representación:** Los datos de entrenamiento de la IA pueden contener sesgos inherentes que se reflejen en el contenido generado, perpetuando estereotipos dañinos o excluyendo a ciertos grupos. Para mitigar esto, se necesita una cuidadosa selección y limpieza de los datos, así como técnicas de \"desbias\" y la incorporación de perspectivas diversas en el equipo de desarrollo. Además, es crucial implementar sistemas de monitoreo y reporte para que los jugadores puedan señalar contenido problemático.\n",
       "*   **Responsabilidad y Transparencia:** ¿Quién es responsable si la IA genera contenido ofensivo, ilegal o dañino? Es crucial establecer marcos legales y éticos claros que definan la responsabilidad de los desarrolladores, los creadores de contenido y los usuarios. Además, la IA debe ser transparente en sus procesos de toma de decisiones, permitiendo a los jugadores entender por qué se generó cierto contenido y cómo pueden influir en el proceso.\n",
       "*   **Impacto Psicológico:** La IA puede ser utilizada para manipular las emociones y el comportamiento de los jugadores, creando experiencias adictivas o generando ansiedad y estrés. Es fundamental diseñar la IA de manera ética y responsable, priorizando el bienestar de los jugadores y evitando la explotación de sus vulnerabilidades.\n",
       "\n",
       "**Desafíos Técnicos:**\n",
       "\n",
       "*   **Coherencia Narrativa y Mundo Consistente:** Mantener la coherencia y la consistencia en una narrativa generada dinámicamente es un desafío técnico considerable. Se requiere el uso de modelos de lenguaje avanzados, técnicas de planificación narrativa y la integración de conocimiento externo sobre el mundo del juego.\n",
       "*   **Profundidad Emocional y Autenticidad:** Crear personajes y situaciones que evoquen emociones genuinas en los jugadores requiere una comprensión profunda de la psicología humana y la capacidad de generar contenido que resuene a nivel emocional. Esto podría lograrse mediante el uso de modelos de IA que simulen las emociones humanas y la integración de feedback emocional de los jugadores en el proceso de creación.\n",
       "*   **Optimización y Escalabilidad:** Generar contenido dinámicamente puede ser computacionalmente costoso, lo que puede afectar el rendimiento del juego. Se necesita optimizar los algoritmos de la IA y explorar arquitecturas de IA eficientes para garantizar que el juego funcione sin problemas en una variedad de plataformas.\n",
       "*   **Evaluación y Feedback Continuo:** Se necesita un sistema robusto para evaluar la calidad del contenido generado por la IA y proporcionar feedback para mejorar su rendimiento. Esto podría incluir métricas automatizadas, encuestas a los jugadores y análisis de datos de juego.\n",
       "\n",
       "**Desafíos Creativos:**\n",
       "\n",
       "*   **Homogeneización Creativa:** Existe el riesgo de que la IA genere contenido repetitivo o predecible, lo que podría homogeneizar la experiencia de juego. Para evitar esto, es crucial alimentar la IA con una amplia variedad de fuentes de inspiración, fomentar la experimentación y la innovación, y permitir que los diseñadores humanos tengan la última palabra en el proceso de creación.\n",
       "*   **El Rol del Diseñador:** La IA no reemplaza a los diseñadores humanos, sino que cambia su rol. Los diseñadores se convierten en curadores, directores y colaboradores de la IA, guiando su creatividad, asegurando la coherencia del mundo del juego y añadiendo el toque humano que la IA no puede replicar. El enfoque debe ser en la colaboración humano-IA.\n",
       "*   **Preservación de la Agência del Jugador:** Asegurar que el jugador siga sintiendo que tiene control sobre la narrativa y el mundo del juego, incluso cuando la IA está generando contenido dinámicamente. Esto requiere un diseño cuidadoso de las interacciones entre el jugador y la IA, así como la implementación de sistemas de feedback que permitan al jugador influir en el proceso de creación.\n",
       "\n",
       "**Impacto en la Experiencia del Jugador y la Industria del Juego:**\n",
       "\n",
       "*   **Experiencias Más Inmersivas y Personalizadas:** La IA puede crear experiencias de juego que son más inmersivas, personalizadas y significativas para cada jugador.\n",
       "*   **Nuevos Modelos de Negocio:** La IA podría permitir la creación de juegos que se adaptan a las preferencias del jugador y se actualizan constantemente con nuevo contenido, abriendo nuevas oportunidades de monetización.\n",
       "*   **Democratización del Diseño de Juegos:** La IA podría hacer que el diseño de juegos sea más accesible para un público más amplio, permitiendo a los usuarios crear sus propias historias y mundos de juego.\n",
       "*   **Transformación de la Cultura del Juego:** La IA podría cambiar la forma en que interactuamos con los juegos y entre nosotros, creando nuevas comunidades y formas de expresión creativa.\n",
       "\n",
       "**Conclusión:**\n",
       "\n",
       "La IA generativa tiene el potencial de revolucionar la industria del juego de rol, pero es crucial abordar los desafíos éticos, técnicos y creativos con cuidado y responsabilidad. Al priorizar el bienestar de los jugadores, fomentar la creatividad y garantizar la transparencia, podemos aprovechar el poder de la IA para crear experiencias de juego que sean más inmersivas, personalizadas y significativas para todos. Además, es fundamental fomentar un diálogo abierto entre desarrolladores, jugadores y la comunidad en general para garantizar que la IA se utilice de manera ética y responsable en la industria del juego.\n"
      ],
      "text/plain": [
       "<IPython.core.display.Markdown object>"
      ]
     },
     "metadata": {},
     "output_type": "display_data"
    }
   ],
   "source": [
    "#Generamos la nueva respuesta de Gemini como resultado de las opiniones de los otros modelos\n",
    "gemini = OpenAI(api_key=google_api_key, base_url=\"https://generativelanguage.googleapis.com/v1beta/openai/\")\n",
    "model_name = \"gemini-2.0-flash\"\n",
    "\n",
    "response = gemini.chat.completions.create(model=model_name,messages = [{\"role\": \"user\", \"content\": prompt_critique_Gemini}])\n",
    "new_answer_gemini = response.choices[0].message.content\n",
    "\n",
    "display(Markdown(new_answer_gemini))"
   ]
  },
  {
   "cell_type": "code",
   "execution_count": 53,
   "id": "53af5858",
   "metadata": {},
   "outputs": [
    {
     "name": "stdout",
     "output_type": "stream",
     "text": [
      "Respuesta de Groq a Gemini:\n"
     ]
    },
    {
     "data": {
      "text/markdown": [
       "La generación dinámica de narrativas y misiones personalizadas en juegos de rol mediante inteligencia artificial (IA) presenta tanto oportunidades emocionantes como desafíos complejos. Para abordar estos puntos de manera integral, es crucial considerar las implicaciones éticas, técnicas y creativas de tal sistema.\n",
       "\n",
       "### Oportunidades\n",
       "\n",
       "1. **Experiencia Personalizada**: La IA puede analizar el comportamiento y las preferencias del jugador, permitiendo la creación de experiencias altamente personalizadas. Para lograr esto, métodos como el aprendizaje automático y el procesamiento de lenguaje natural pueden ser empleados. Sin embargo, es esencial explicar cómo estos métodos garantizan la privacidad y seguridad de los datos de los jugadores, abordando preocupaciones éticas sobre la recopilación y el uso de estos datos.\n",
       "\n",
       "2. **Diversidad y Replayabilidad**: La IA puede generar un vasto número de narrativas y misiones, reduciendo la repetición y aumentando la diversidad. Para medir esta diversidad, se pueden utilizar criterios como la variedad de tramas, la complejidad de los personajes y la novedad de los desafíos. Es crucial asegurar que la \"diversidad\" generada no solo se refiere a variaciones superficiales, sino que también abarca profundidad y complejidad en la narrativa.\n",
       "\n",
       "3. **Nuevas Formas de Narrativa**: La IA puede permitir la creación de narrativas no lineales y dinámicas, ofreciendo una experiencia única a los jugadores. Sin embargo, es desafiar garantizar que estas narrativas complejas sean coherentes y satisfactorias. Esto requiere algoritmos avanzados que puedan evaluar la coherencia y el impacto emocional de la narrativa generada.\n",
       "\n",
       "### Desafíos\n",
       "\n",
       "1. **Calidad y Coherencia de la Narrativa**: Garantizar la calidad y la coherencia de las narrativas generadas es un desafío crítico. Para abordar esto, se pueden implementar modelos de evaluación que analicen la lógica de la trama, la consistencia de los personajes y la resolución satisfactoria de la narrativa. La colaboración entre creadores humanos y la IA puede ser clave para asegurar que las narrativas generadas sean de alta calidad.\n",
       "\n",
       "2. **Privacidad y Seguridad de los Datos**: La recolección y el análisis de datos del jugador para personalizar la experiencia plantean importantes desafíos éticos. Es esencial implementar medidas para proteger la privacidad y la seguridad de estos datos, incluyendo el uso de técnicas de anonimización, la obtención de consentimiento informado y la garantía de la conformidad con las regulaciones de protección de datos.\n",
       "\n",
       "3. **Impacto en la Creatividad Humana**: La dependencia de la IA para la generación de narrativas y misiones podría potencialmente reducir la creatividad humana en el diseño de juegos. Sin embargo, también se puede argumentar que la IA puede potenciar la creatividad humana, actuando como una herramienta que amplía las posibilidades de los diseñadores de juegos. Es crucial encontrar un equilibrio entre el uso de la IA y la creatividad humana.\n",
       "\n",
       "### Aspectos Éticos\n",
       "\n",
       "1. **Sesgos y Estereotipos**: La IA puede perpetuar sesgos y estereotipos presentes en los datos de entrenamiento. Para mitigar esto, es necesario desarrollar métodos para detectar y mitigar estos sesgos, asegurando que las narrativas generadas sean inclusivas y respetuosas.\n",
       "\n",
       "2. **Accesibilidad e Inclusión**: La IA puede mejorar la accesibilidad para jugadores con discapacidades, ofreciendo experiencias personalizadas que se adapten a sus necesidades. Es importante investigar cómo los algoritmos de la IA pueden ser diseñados para reconocer y responder a las necesidades de accesibilidad de manera efectiva.\n",
       "\n",
       "### Aspectos Técnicos\n",
       "\n",
       "1. **Desarrollo de Algoritmos**: El desarrollo de algoritmos avanzados es crucial para la generación de narrativas y misiones de alta calidad. Esto incluye el uso de técnicas como el aprendizaje profundo, el procesamiento de lenguaje natural y la inteligencia artificial generativa. Es esencial investigar y desarrollar algoritmos que puedan generar contenido coherente y emocionalmente resonante.\n",
       "\n",
       "2. **Integración con Motores de Juego**: La integración de la IA con los motores de juego es un desafío técnico significativo. Requiere asegurar que los sistemas de IA sean compatibles con los motores de juego existentes, permitiendo una integración sin problemas y una experiencia fluida para el jugador.\n",
       "\n",
       "### Impacto en la Industria del Juego\n",
       "\n",
       "1. **Cambios en la Estructura del Diseño de Juegos**: La IA puede cambiar fundamentalmente la forma en que se diseñan los juegos, permitiendo la creación de experiencias más dinámicas y personalizadas. Es importante explorar cómo los diseñadores de juegos pueden trabajar en colaboración con la IA para crear experiencias únicas y atractivas.\n",
       "\n",
       "2. **Nuevas Oportunidades de Negocio**: La IA puede abrir nuevas oportunidades de negocio en la industria de los juegos, como el modelo de Juegos como Servicio (GaaS). Sin embargo, es crucial considerar las implicaciones de estas oportunidades en términos de prácticas de monetización y experiencia del jugador.\n",
       "\n",
       "En conclusión, la integración de la IA en la generación dinámica de narrativas y misiones en juegos de rol ofrece tanto oportunidades emocionantes como desafíos complejos. Para aprovechar al máximo el potencial de la IA en este contexto, es esencial abordar los desafíos técnicos, éticos y creativos de manera integral, asegurando que las experiencias generadas por la IA sean de alta calidad, personalizadas, accesibles y éticas. La colaboración entre la IA y la creatividad humana puede ser la clave para crear experiencias de juego innovadoras y atractivas que revolucionen la industria."
      ],
      "text/plain": [
       "<IPython.core.display.Markdown object>"
      ]
     },
     "metadata": {},
     "output_type": "display_data"
    }
   ],
   "source": [
    "#Generamos la nueva respuesta de groq como resultado de las opiniones de los otros modelos\n",
    "\n",
    "groq = OpenAI(api_key=groq_api_key, base_url=\"https://api.groq.com/openai/v1\")\n",
    "model_name = \"llama-3.3-70b-versatile\"\n",
    "\n",
    "response = groq.chat.completions.create(model=model_name, messages=[{\"role\": \"user\", \"content\": prompt_critique_Groq}])\n",
    "new_answer_groq= response.choices[0].message.content\n",
    "\n",
    "print(\"Respuesta de Groq a Gemini:\")\n",
    "display(Markdown(new_answer_groq))"
   ]
  },
  {
   "cell_type": "code",
   "execution_count": null,
   "id": "3577c2fc",
   "metadata": {},
   "outputs": [],
   "source": [
    "#Ahora generamos el prompt para que un juez evalue cual de las respuestas es la mejor"
   ]
  },
  {
   "cell_type": "code",
   "execution_count": null,
   "id": "142def8e",
   "metadata": {},
   "outputs": [],
   "source": [
    "new_answers = [new_answer_openai,new_answer_gemini,new_answer_groq]\n"
   ]
  },
  {
   "cell_type": "code",
   "execution_count": null,
   "id": "8cbb0b28",
   "metadata": {},
   "outputs": [],
   "source": [
    "judge = f\"\"\"Estás juzgando una competición entre 3 competidores.\n",
    "A cada modelo se le ha dado esta pregunta:\n",
    "\n",
    "{question}\n",
    "\n",
    "Tu trabajo es evaluar cada respuesta por claridad y fortaleza del argumento, y clasificarlas en orden de mejor a peor.\n",
    "Responde con JSON, y solo JSON, con el siguiente formato:\n",
    "{{\"resultados\": [\"número del mejor competidor\", \"número del segundo mejor\", \"número del tercer mejor\", ...]}}\n",
    "\n",
    "Aquí están las respuestas de cada competidor:\n",
    "\n",
    "{new_answers}\n",
    "\n",
    "Ahora responde con el JSON con el orden clasificado de los competidores, nada más. No incluyas formato markdown ni bloques de código.\"\"\""
   ]
  },
  {
   "cell_type": "code",
   "execution_count": null,
   "id": "7ace2825",
   "metadata": {},
   "outputs": [
    {
     "name": "stdout",
     "output_type": "stream",
     "text": [
      "{\"resultados\": [\"2\", \"1\", \"3\"]}\n"
     ]
    }
   ],
   "source": [
    "# Le pedimos al juez que responada el prompt que le hemos dado\n",
    "openai = OpenAI()\n",
    "response = openai.chat.completions.create(\n",
    "    model=\"o3-mini\",\n",
    "    messages=[{\"role\": \"user\", \"content\": judge}],\n",
    ")\n",
    "results = response.choices[0].message.content\n",
    "print(results)\n"
   ]
  },
  {
   "cell_type": "code",
   "execution_count": null,
   "id": "63c55f6d",
   "metadata": {},
   "outputs": [
    {
     "name": "stdout",
     "output_type": "stream",
     "text": [
      "2\n"
     ]
    },
    {
     "data": {
      "text/markdown": [
       "De acuerdo con las críticas recibidas, aquí hay una versión modificada de mi respuesta a la pregunta sobre las oportunidades y desafíos éticos, técnicos y creativos de la IA generativa en juegos de rol, que busca ser más profunda, fundamentada y considerar aspectos sociales y culturales:\n",
       "\n",
       "**Pregunta:** ¿Cuáles son las oportunidades y desafíos éticos, técnicos y creativos que podríamos abordar al desarrollar un sistema de inteligencia artificial que genere dinámicamente narrativas y misiones personalizadas en juegos de rol, y cómo esto podría cambiar la experiencia del jugador y la estructura del diseño de juegos en la industria?\n",
       "\n",
       "**Respuesta Modificada:**\n",
       "\n",
       "El desarrollo de sistemas de IA generativa para juegos de rol ofrece un potencial transformador, pero también plantea desafíos significativos que deben ser abordados con cuidado.\n",
       "\n",
       "**Oportunidades:**\n",
       "\n",
       "*   **Personalización Dinámica a Escala:** La IA puede adaptar la narrativa, los desafíos y el mundo del juego en tiempo real a las acciones y preferencias de cada jugador, creando experiencias altamente personalizadas. Esto va más allá de simples ramas narrativas, permitiendo que la historia evolucione de manera orgánica en respuesta a la agencia del jugador. Para lograr esto, se requiere la implementación de sistemas de memoria a largo plazo en la IA, que le permitan recordar las elecciones del jugador y sus consecuencias a lo largo del juego.\n",
       "*   **Expansión Infinita del Contenido:** La IA puede generar nuevas misiones, personajes, mundos e incluso reglas de juego sobre la marcha, ofreciendo una rejugabilidad virtualmente ilimitada. Sin embargo, la clave está en asegurar la calidad y coherencia de este contenido generado, lo que requiere técnicas de evaluación automatizadas y la integración de feedback humano en el ciclo de creación.\n",
       "*   **Profundidad y Reactividad de los PNJs:** La IA puede dotar a los personajes no jugadores (PNJs) de personalidades complejas, motivaciones realistas y la capacidad de reaccionar de manera creíble a las acciones del jugador. Esto podría lograrse mediante el uso de modelos de lenguaje grandes (LLMs) ajustados con información detallada sobre la historia, la cultura y los valores del mundo del juego.\n",
       "*   **Accesibilidad Mejorada:** La IA puede adaptar la dificultad del juego a las habilidades del jugador, ofrecer tutoriales personalizados e incluso traducir el juego a diferentes idiomas en tiempo real, haciendo que los juegos de rol sean más accesibles para un público más amplio.\n",
       "\n",
       "**Desafíos Éticos:**\n",
       "\n",
       "*   **Sesgos y Representación:** Los datos de entrenamiento de la IA pueden contener sesgos inherentes que se reflejen en el contenido generado, perpetuando estereotipos dañinos o excluyendo a ciertos grupos. Para mitigar esto, se necesita una cuidadosa selección y limpieza de los datos, así como técnicas de \"desbias\" y la incorporación de perspectivas diversas en el equipo de desarrollo. Además, es crucial implementar sistemas de monitoreo y reporte para que los jugadores puedan señalar contenido problemático.\n",
       "*   **Responsabilidad y Transparencia:** ¿Quién es responsable si la IA genera contenido ofensivo, ilegal o dañino? Es crucial establecer marcos legales y éticos claros que definan la responsabilidad de los desarrolladores, los creadores de contenido y los usuarios. Además, la IA debe ser transparente en sus procesos de toma de decisiones, permitiendo a los jugadores entender por qué se generó cierto contenido y cómo pueden influir en el proceso.\n",
       "*   **Impacto Psicológico:** La IA puede ser utilizada para manipular las emociones y el comportamiento de los jugadores, creando experiencias adictivas o generando ansiedad y estrés. Es fundamental diseñar la IA de manera ética y responsable, priorizando el bienestar de los jugadores y evitando la explotación de sus vulnerabilidades.\n",
       "\n",
       "**Desafíos Técnicos:**\n",
       "\n",
       "*   **Coherencia Narrativa y Mundo Consistente:** Mantener la coherencia y la consistencia en una narrativa generada dinámicamente es un desafío técnico considerable. Se requiere el uso de modelos de lenguaje avanzados, técnicas de planificación narrativa y la integración de conocimiento externo sobre el mundo del juego.\n",
       "*   **Profundidad Emocional y Autenticidad:** Crear personajes y situaciones que evoquen emociones genuinas en los jugadores requiere una comprensión profunda de la psicología humana y la capacidad de generar contenido que resuene a nivel emocional. Esto podría lograrse mediante el uso de modelos de IA que simulen las emociones humanas y la integración de feedback emocional de los jugadores en el proceso de creación.\n",
       "*   **Optimización y Escalabilidad:** Generar contenido dinámicamente puede ser computacionalmente costoso, lo que puede afectar el rendimiento del juego. Se necesita optimizar los algoritmos de la IA y explorar arquitecturas de IA eficientes para garantizar que el juego funcione sin problemas en una variedad de plataformas.\n",
       "*   **Evaluación y Feedback Continuo:** Se necesita un sistema robusto para evaluar la calidad del contenido generado por la IA y proporcionar feedback para mejorar su rendimiento. Esto podría incluir métricas automatizadas, encuestas a los jugadores y análisis de datos de juego.\n",
       "\n",
       "**Desafíos Creativos:**\n",
       "\n",
       "*   **Homogeneización Creativa:** Existe el riesgo de que la IA genere contenido repetitivo o predecible, lo que podría homogeneizar la experiencia de juego. Para evitar esto, es crucial alimentar la IA con una amplia variedad de fuentes de inspiración, fomentar la experimentación y la innovación, y permitir que los diseñadores humanos tengan la última palabra en el proceso de creación.\n",
       "*   **El Rol del Diseñador:** La IA no reemplaza a los diseñadores humanos, sino que cambia su rol. Los diseñadores se convierten en curadores, directores y colaboradores de la IA, guiando su creatividad, asegurando la coherencia del mundo del juego y añadiendo el toque humano que la IA no puede replicar. El enfoque debe ser en la colaboración humano-IA.\n",
       "*   **Preservación de la Agência del Jugador:** Asegurar que el jugador siga sintiendo que tiene control sobre la narrativa y el mundo del juego, incluso cuando la IA está generando contenido dinámicamente. Esto requiere un diseño cuidadoso de las interacciones entre el jugador y la IA, así como la implementación de sistemas de feedback que permitan al jugador influir en el proceso de creación.\n",
       "\n",
       "**Impacto en la Experiencia del Jugador y la Industria del Juego:**\n",
       "\n",
       "*   **Experiencias Más Inmersivas y Personalizadas:** La IA puede crear experiencias de juego que son más inmersivas, personalizadas y significativas para cada jugador.\n",
       "*   **Nuevos Modelos de Negocio:** La IA podría permitir la creación de juegos que se adaptan a las preferencias del jugador y se actualizan constantemente con nuevo contenido, abriendo nuevas oportunidades de monetización.\n",
       "*   **Democratización del Diseño de Juegos:** La IA podría hacer que el diseño de juegos sea más accesible para un público más amplio, permitiendo a los usuarios crear sus propias historias y mundos de juego.\n",
       "*   **Transformación de la Cultura del Juego:** La IA podría cambiar la forma en que interactuamos con los juegos y entre nosotros, creando nuevas comunidades y formas de expresión creativa.\n",
       "\n",
       "**Conclusión:**\n",
       "\n",
       "La IA generativa tiene el potencial de revolucionar la industria del juego de rol, pero es crucial abordar los desafíos éticos, técnicos y creativos con cuidado y responsabilidad. Al priorizar el bienestar de los jugadores, fomentar la creatividad y garantizar la transparencia, podemos aprovechar el poder de la IA para crear experiencias de juego que sean más inmersivas, personalizadas y significativas para todos. Además, es fundamental fomentar un diálogo abierto entre desarrolladores, jugadores y la comunidad en general para garantizar que la IA se utilice de manera ética y responsable en la industria del juego.\n"
      ],
      "text/plain": [
       "<IPython.core.display.Markdown object>"
      ]
     },
     "metadata": {},
     "output_type": "display_data"
    }
   ],
   "source": [
    "# Suponiendo que 'results' es el string JSON que recibiste del modelo\n",
    "results_json = json.loads(results)  # Convierte string JSON a dict\n",
    "\n",
    "# Accedes a la lista con la clave \"resultados\"\n",
    "orden = results_json[\"resultados\"]  # Ejemplo: [\"2\", \"0\", \"1\"]\n",
    "\n",
    "# Como los índices vienen como strings, los convertimos a int\n",
    "orden_int = [int(x) for x in orden]\n",
    "# Ahora muestras la mejor respuesta según la clasificación (primer puesto)\n",
    "display(Markdown(new_answers[orden_int[0]-1]))"
   ]
  }
 ],
 "metadata": {
  "kernelspec": {
   "display_name": ".venv",
   "language": "python",
   "name": "python3"
  },
  "language_info": {
   "codemirror_mode": {
    "name": "ipython",
    "version": 3
   },
   "file_extension": ".py",
   "mimetype": "text/x-python",
   "name": "python",
   "nbconvert_exporter": "python",
   "pygments_lexer": "ipython3",
   "version": "3.12.9"
  }
 },
 "nbformat": 4,
 "nbformat_minor": 5
}
